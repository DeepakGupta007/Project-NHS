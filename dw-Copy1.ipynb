{
 "cells": [
  {
   "cell_type": "code",
   "execution_count": 1,
   "metadata": {},
   "outputs": [],
   "source": [
    "%matplotlib inline\n",
    "import matplotlib\n",
    "import seaborn as sns\n",
    "sns.set()\n",
    "matplotlib.rcParams['figure.dpi'] = 144"
   ]
  },
  {
   "cell_type": "code",
   "execution_count": 8,
   "metadata": {},
   "outputs": [
    {
     "ename": "ModuleNotFoundError",
     "evalue": "No module named 'static_grader'",
     "output_type": "error",
     "traceback": [
      "\u001b[1;31m---------------------------------------------------------------------------\u001b[0m",
      "\u001b[1;31mModuleNotFoundError\u001b[0m                       Traceback (most recent call last)",
      "\u001b[1;32m<ipython-input-8-8e6e43306c66>\u001b[0m in \u001b[0;36m<module>\u001b[1;34m\u001b[0m\n\u001b[1;32m----> 1\u001b[1;33m \u001b[1;32mfrom\u001b[0m \u001b[0mstatic_grader\u001b[0m \u001b[1;32mimport\u001b[0m \u001b[0mgrader\u001b[0m\u001b[1;33m\u001b[0m\u001b[1;33m\u001b[0m\u001b[0m\n\u001b[0m",
      "\u001b[1;31mModuleNotFoundError\u001b[0m: No module named 'static_grader'"
     ]
    }
   ],
   "source": [
    "from static_grader import grader"
   ]
  },
  {
   "cell_type": "markdown",
   "metadata": {},
   "source": [
    "# DW Miniproject\n",
    "## Introduction\n",
    "\n",
    "The objective of this miniproject is to exercise your ability to wrangle tabular data set and aggregate large data sets into meaningful summary statistics. We'll work with the same medical data used in the `pw` miniproject but leverage the power of Pandas to more efficiently represent and act on our data."
   ]
  },
  {
   "cell_type": "markdown",
   "metadata": {},
   "source": [
    "## Downloading the data\n",
    "\n",
    "We first need to download the data we'll be using from Amazon S3:"
   ]
  },
  {
   "cell_type": "code",
   "execution_count": 1,
   "metadata": {},
   "outputs": [
    {
     "name": "stderr",
     "output_type": "stream",
     "text": [
      "A subdirectory or file dw-data already exists.\n",
      "'wget' is not recognized as an internal or external command,\n",
      "operable program or batch file.\n",
      "'wget' is not recognized as an internal or external command,\n",
      "operable program or batch file.\n",
      "'wget' is not recognized as an internal or external command,\n",
      "operable program or batch file.\n",
      "'wget' is not recognized as an internal or external command,\n",
      "operable program or batch file.\n"
     ]
    }
   ],
   "source": [
    "!mkdir dw-data\n",
    "!wget http://dataincubator-wqu.s3.amazonaws.com/dwdata/201701scripts_sample.csv.gz -nc -P ./dw-data/\n",
    "!wget http://dataincubator-wqu.s3.amazonaws.com/dwdata/201606scripts_sample.csv.gz -nc -P ./dw-data/\n",
    "!wget http://dataincubator-wqu.s3.amazonaws.com/dwdata/practices.csv.gz -nc -P ./dw-data/\n",
    "!wget http://dataincubator-wqu.s3.amazonaws.com/dwdata/chem.csv.gz -nc -P ./dw-data/"
   ]
  },
  {
   "cell_type": "markdown",
   "metadata": {},
   "source": [
    "## Loading the data\n",
    "\n",
    "Similar to the `PW` miniproject, the first step is to read in the data. The data files are stored as compressed CSV files. You can load the data into a Pandas DataFrame by making use of the `gzip` package to decompress the files and Panda's `read_csv` methods to parse the data into a DataFrame. You may want to check the Pandas documentation for parsing [CSV](http://pandas.pydata.org/pandas-docs/stable/generated/pandas.read_csv.html) files for reference.\n",
    "\n",
    "For a description of the data set please, refer to the [PW miniproject](./pw.ipynb). **Note that all questions make use of the 2017 data only, except for Question 5 which makes use of both the 2017 and 2016 data.**"
   ]
  },
  {
   "cell_type": "code",
   "execution_count": 2,
   "metadata": {},
   "outputs": [],
   "source": [
    "import pandas as pd\n",
    "import numpy as np\n",
    "import gzip"
   ]
  },
  {
   "cell_type": "code",
   "execution_count": 3,
   "metadata": {},
   "outputs": [
    {
     "data": {
      "text/html": [
       "<div>\n",
       "<style scoped>\n",
       "    .dataframe tbody tr th:only-of-type {\n",
       "        vertical-align: middle;\n",
       "    }\n",
       "\n",
       "    .dataframe tbody tr th {\n",
       "        vertical-align: top;\n",
       "    }\n",
       "\n",
       "    .dataframe thead th {\n",
       "        text-align: right;\n",
       "    }\n",
       "</style>\n",
       "<table border=\"1\" class=\"dataframe\">\n",
       "  <thead>\n",
       "    <tr style=\"text-align: right;\">\n",
       "      <th></th>\n",
       "      <th>practice</th>\n",
       "      <th>bnf_code</th>\n",
       "      <th>bnf_name</th>\n",
       "      <th>items</th>\n",
       "      <th>nic</th>\n",
       "      <th>act_cost</th>\n",
       "      <th>quantity</th>\n",
       "    </tr>\n",
       "  </thead>\n",
       "  <tbody>\n",
       "    <tr>\n",
       "      <th>0</th>\n",
       "      <td>N85639</td>\n",
       "      <td>0106020C0</td>\n",
       "      <td>Bisacodyl_Tab E/C 5mg</td>\n",
       "      <td>1</td>\n",
       "      <td>0.39</td>\n",
       "      <td>0.47</td>\n",
       "      <td>12</td>\n",
       "    </tr>\n",
       "    <tr>\n",
       "      <th>1</th>\n",
       "      <td>N85639</td>\n",
       "      <td>0106040M0</td>\n",
       "      <td>Movicol Plain_Paed Pdr Sach 6.9g</td>\n",
       "      <td>1</td>\n",
       "      <td>4.38</td>\n",
       "      <td>4.07</td>\n",
       "      <td>30</td>\n",
       "    </tr>\n",
       "    <tr>\n",
       "      <th>2</th>\n",
       "      <td>N85639</td>\n",
       "      <td>0301011R0</td>\n",
       "      <td>Salbutamol_Inha 100mcg (200 D) CFF</td>\n",
       "      <td>1</td>\n",
       "      <td>1.50</td>\n",
       "      <td>1.40</td>\n",
       "      <td>1</td>\n",
       "    </tr>\n",
       "    <tr>\n",
       "      <th>3</th>\n",
       "      <td>N85639</td>\n",
       "      <td>0304010G0</td>\n",
       "      <td>Chlorphenamine Mal_Oral Soln 2mg/5ml</td>\n",
       "      <td>1</td>\n",
       "      <td>2.62</td>\n",
       "      <td>2.44</td>\n",
       "      <td>150</td>\n",
       "    </tr>\n",
       "    <tr>\n",
       "      <th>4</th>\n",
       "      <td>N85639</td>\n",
       "      <td>0401020K0</td>\n",
       "      <td>Diazepam_Tab 2mg</td>\n",
       "      <td>1</td>\n",
       "      <td>0.16</td>\n",
       "      <td>0.26</td>\n",
       "      <td>6</td>\n",
       "    </tr>\n",
       "  </tbody>\n",
       "</table>\n",
       "</div>"
      ],
      "text/plain": [
       "  practice   bnf_code                              bnf_name  items   nic  \\\n",
       "0   N85639  0106020C0                 Bisacodyl_Tab E/C 5mg      1  0.39   \n",
       "1   N85639  0106040M0      Movicol Plain_Paed Pdr Sach 6.9g      1  4.38   \n",
       "2   N85639  0301011R0    Salbutamol_Inha 100mcg (200 D) CFF      1  1.50   \n",
       "3   N85639  0304010G0  Chlorphenamine Mal_Oral Soln 2mg/5ml      1  2.62   \n",
       "4   N85639  0401020K0                      Diazepam_Tab 2mg      1  0.16   \n",
       "\n",
       "   act_cost  quantity  \n",
       "0      0.47        12  \n",
       "1      4.07        30  \n",
       "2      1.40         1  \n",
       "3      2.44       150  \n",
       "4      0.26         6  "
      ]
     },
     "execution_count": 3,
     "metadata": {},
     "output_type": "execute_result"
    }
   ],
   "source": [
    "# load the 2017 data\n",
    "#scripts = ...\n",
    "scripts = pd.read_csv('./dw-data/201701scripts_sample.csv.gz',compression='gzip')\n",
    "scripts.head()"
   ]
  },
  {
   "cell_type": "code",
   "execution_count": 4,
   "metadata": {},
   "outputs": [
    {
     "data": {
      "text/html": [
       "<div>\n",
       "<style scoped>\n",
       "    .dataframe tbody tr th:only-of-type {\n",
       "        vertical-align: middle;\n",
       "    }\n",
       "\n",
       "    .dataframe tbody tr th {\n",
       "        vertical-align: top;\n",
       "    }\n",
       "\n",
       "    .dataframe thead th {\n",
       "        text-align: right;\n",
       "    }\n",
       "</style>\n",
       "<table border=\"1\" class=\"dataframe\">\n",
       "  <thead>\n",
       "    <tr style=\"text-align: right;\">\n",
       "      <th></th>\n",
       "      <th>code</th>\n",
       "      <th>name</th>\n",
       "      <th>addr_1</th>\n",
       "      <th>addr_2</th>\n",
       "      <th>borough</th>\n",
       "      <th>village</th>\n",
       "      <th>post_code</th>\n",
       "    </tr>\n",
       "  </thead>\n",
       "  <tbody>\n",
       "    <tr>\n",
       "      <th>0</th>\n",
       "      <td>A81001</td>\n",
       "      <td>THE DENSHAM SURGERY</td>\n",
       "      <td>THE HEALTH CENTRE</td>\n",
       "      <td>LAWSON STREET</td>\n",
       "      <td>STOCKTON ON TEES</td>\n",
       "      <td>CLEVELAND</td>\n",
       "      <td>TS18 1HU</td>\n",
       "    </tr>\n",
       "    <tr>\n",
       "      <th>1</th>\n",
       "      <td>A81002</td>\n",
       "      <td>QUEENS PARK MEDICAL CENTRE</td>\n",
       "      <td>QUEENS PARK MEDICAL CTR</td>\n",
       "      <td>FARRER STREET</td>\n",
       "      <td>STOCKTON ON TEES</td>\n",
       "      <td>CLEVELAND</td>\n",
       "      <td>TS18 2AW</td>\n",
       "    </tr>\n",
       "    <tr>\n",
       "      <th>2</th>\n",
       "      <td>A81003</td>\n",
       "      <td>VICTORIA MEDICAL PRACTICE</td>\n",
       "      <td>THE HEALTH CENTRE</td>\n",
       "      <td>VICTORIA ROAD</td>\n",
       "      <td>HARTLEPOOL</td>\n",
       "      <td>CLEVELAND</td>\n",
       "      <td>TS26 8DB</td>\n",
       "    </tr>\n",
       "    <tr>\n",
       "      <th>3</th>\n",
       "      <td>A81004</td>\n",
       "      <td>WOODLANDS ROAD SURGERY</td>\n",
       "      <td>6 WOODLANDS ROAD</td>\n",
       "      <td>NaN</td>\n",
       "      <td>MIDDLESBROUGH</td>\n",
       "      <td>CLEVELAND</td>\n",
       "      <td>TS1 3BE</td>\n",
       "    </tr>\n",
       "    <tr>\n",
       "      <th>4</th>\n",
       "      <td>A81005</td>\n",
       "      <td>SPRINGWOOD SURGERY</td>\n",
       "      <td>SPRINGWOOD SURGERY</td>\n",
       "      <td>RECTORY LANE</td>\n",
       "      <td>GUISBOROUGH</td>\n",
       "      <td>NaN</td>\n",
       "      <td>TS14 7DJ</td>\n",
       "    </tr>\n",
       "  </tbody>\n",
       "</table>\n",
       "</div>"
      ],
      "text/plain": [
       "     code                        name                   addr_1         addr_2  \\\n",
       "0  A81001         THE DENSHAM SURGERY        THE HEALTH CENTRE  LAWSON STREET   \n",
       "1  A81002  QUEENS PARK MEDICAL CENTRE  QUEENS PARK MEDICAL CTR  FARRER STREET   \n",
       "2  A81003   VICTORIA MEDICAL PRACTICE        THE HEALTH CENTRE  VICTORIA ROAD   \n",
       "3  A81004      WOODLANDS ROAD SURGERY         6 WOODLANDS ROAD            NaN   \n",
       "4  A81005          SPRINGWOOD SURGERY       SPRINGWOOD SURGERY   RECTORY LANE   \n",
       "\n",
       "            borough    village post_code  \n",
       "0  STOCKTON ON TEES  CLEVELAND  TS18 1HU  \n",
       "1  STOCKTON ON TEES  CLEVELAND  TS18 2AW  \n",
       "2        HARTLEPOOL  CLEVELAND  TS26 8DB  \n",
       "3     MIDDLESBROUGH  CLEVELAND   TS1 3BE  \n",
       "4       GUISBOROUGH        NaN  TS14 7DJ  "
      ]
     },
     "execution_count": 4,
     "metadata": {},
     "output_type": "execute_result"
    }
   ],
   "source": [
    "col_names=[ 'code', 'name', 'addr_1', 'addr_2', 'borough', 'village', 'post_code']\n",
    "#practices = ...\n",
    "practices = pd.read_csv('./dw-data/practices.csv.gz',header=None,names= col_names)\n",
    "practices.head()"
   ]
  },
  {
   "cell_type": "code",
   "execution_count": 30,
   "metadata": {},
   "outputs": [
    {
     "data": {
      "text/html": [
       "<div>\n",
       "<style scoped>\n",
       "    .dataframe tbody tr th:only-of-type {\n",
       "        vertical-align: middle;\n",
       "    }\n",
       "\n",
       "    .dataframe tbody tr th {\n",
       "        vertical-align: top;\n",
       "    }\n",
       "\n",
       "    .dataframe thead th {\n",
       "        text-align: right;\n",
       "    }\n",
       "</style>\n",
       "<table border=\"1\" class=\"dataframe\">\n",
       "  <thead>\n",
       "    <tr style=\"text-align: right;\">\n",
       "      <th></th>\n",
       "      <th>CHEM SUB</th>\n",
       "      <th>NAME</th>\n",
       "    </tr>\n",
       "  </thead>\n",
       "  <tbody>\n",
       "    <tr>\n",
       "      <th>0</th>\n",
       "      <td>0101010A0</td>\n",
       "      <td>Alexitol Sodium</td>\n",
       "    </tr>\n",
       "    <tr>\n",
       "      <th>1</th>\n",
       "      <td>0101010B0</td>\n",
       "      <td>Almasilate</td>\n",
       "    </tr>\n",
       "    <tr>\n",
       "      <th>2</th>\n",
       "      <td>0101010C0</td>\n",
       "      <td>Aluminium Hydroxide</td>\n",
       "    </tr>\n",
       "    <tr>\n",
       "      <th>3</th>\n",
       "      <td>0101010D0</td>\n",
       "      <td>Aluminium Hydroxide With Magnesium</td>\n",
       "    </tr>\n",
       "    <tr>\n",
       "      <th>4</th>\n",
       "      <td>0101010E0</td>\n",
       "      <td>Hydrotalcite</td>\n",
       "    </tr>\n",
       "  </tbody>\n",
       "</table>\n",
       "</div>"
      ],
      "text/plain": [
       "    CHEM SUB                                NAME\n",
       "0  0101010A0                     Alexitol Sodium\n",
       "1  0101010B0                          Almasilate\n",
       "2  0101010C0                 Aluminium Hydroxide\n",
       "3  0101010D0  Aluminium Hydroxide With Magnesium\n",
       "4  0101010E0                        Hydrotalcite"
      ]
     },
     "execution_count": 30,
     "metadata": {},
     "output_type": "execute_result"
    }
   ],
   "source": [
    "#chem = ...\n",
    "chem = pd.read_csv('./dw-data/chem.csv.gz')\n",
    "chem.head()"
   ]
  },
  {
   "cell_type": "markdown",
   "metadata": {},
   "source": [
    "Now that we've loaded in the data, let's first replicate our results from the `PW` miniproject. Note that we are now working with a larger data set so the answers will be different than in the `PW` miniproject even if the analysis is the same."
   ]
  },
  {
   "cell_type": "markdown",
   "metadata": {},
   "source": [
    "## Question 1: summary_statistics\n",
    "\n",
    "In the `PW` miniproject we first calculated the total, mean, standard deviation, and quartile statistics of the `'items'`, `'quantity'`', `'nic'`, and `'act_cost'` fields. To do this we had to write some functions to calculate the statistics and apply the functions to our data structure. The DataFrame has a `describe` method that will calculate most (not all) of these things for us.\n",
    "\n",
    "Submit the summary statistics to the grader as a list of tuples: [('act_cost', (total, mean, std, q25, median, q75)), ...]"
   ]
  },
  {
   "cell_type": "code",
   "execution_count": 5,
   "metadata": {},
   "outputs": [
    {
     "data": {
      "text/plain": [
       "[('items', (8888304, 9.133135976111625, 29.20419828297713, 1.0, 2.0, 6.0)),\n",
       " ('nic',\n",
       "  (71100424.84000827,\n",
       "   73.05891517921756,\n",
       "   188.07025690683025,\n",
       "   7.8,\n",
       "   22.64,\n",
       "   65.0)),\n",
       " ('act_cost',\n",
       "  (66164096.11999956,\n",
       "   67.98661326170611,\n",
       "   174.40170332300627,\n",
       "   7.33,\n",
       "   21.22,\n",
       "   60.67)),\n",
       " ('quantity',\n",
       "  (721457006, 741.3298348837282, 3665.426958468499, 28.0, 100.0, 350.0))]"
      ]
     },
     "execution_count": 5,
     "metadata": {},
     "output_type": "execute_result"
    }
   ],
   "source": [
    "stats = scripts.describe()\n",
    "summary_stats = []\n",
    "for field in stats.columns:\n",
    "    summary_stats.append((field,(sum(scripts[field]),stats[field]['mean'],stats[field]['std'],stats[field]['25%'],np.median(scripts[field]),stats[field]['75%'])))\n",
    "summary_stats"
   ]
  },
  {
   "cell_type": "code",
   "execution_count": 6,
   "metadata": {},
   "outputs": [
    {
     "data": {
      "text/html": [
       "<div>\n",
       "<style scoped>\n",
       "    .dataframe tbody tr th:only-of-type {\n",
       "        vertical-align: middle;\n",
       "    }\n",
       "\n",
       "    .dataframe tbody tr th {\n",
       "        vertical-align: top;\n",
       "    }\n",
       "\n",
       "    .dataframe thead th {\n",
       "        text-align: right;\n",
       "    }\n",
       "</style>\n",
       "<table border=\"1\" class=\"dataframe\">\n",
       "  <thead>\n",
       "    <tr style=\"text-align: right;\">\n",
       "      <th></th>\n",
       "      <th>items</th>\n",
       "      <th>nic</th>\n",
       "      <th>act_cost</th>\n",
       "      <th>quantity</th>\n",
       "    </tr>\n",
       "  </thead>\n",
       "  <tbody>\n",
       "    <tr>\n",
       "      <th>count</th>\n",
       "      <td>973193.000000</td>\n",
       "      <td>973193.000000</td>\n",
       "      <td>973193.000000</td>\n",
       "      <td>973193.000000</td>\n",
       "    </tr>\n",
       "    <tr>\n",
       "      <th>mean</th>\n",
       "      <td>9.133136</td>\n",
       "      <td>73.058915</td>\n",
       "      <td>67.986613</td>\n",
       "      <td>741.329835</td>\n",
       "    </tr>\n",
       "    <tr>\n",
       "      <th>std</th>\n",
       "      <td>29.204198</td>\n",
       "      <td>188.070257</td>\n",
       "      <td>174.401703</td>\n",
       "      <td>3665.426958</td>\n",
       "    </tr>\n",
       "    <tr>\n",
       "      <th>min</th>\n",
       "      <td>1.000000</td>\n",
       "      <td>0.000000</td>\n",
       "      <td>0.040000</td>\n",
       "      <td>0.000000</td>\n",
       "    </tr>\n",
       "    <tr>\n",
       "      <th>25%</th>\n",
       "      <td>1.000000</td>\n",
       "      <td>7.800000</td>\n",
       "      <td>7.330000</td>\n",
       "      <td>28.000000</td>\n",
       "    </tr>\n",
       "    <tr>\n",
       "      <th>50%</th>\n",
       "      <td>2.000000</td>\n",
       "      <td>22.640000</td>\n",
       "      <td>21.220000</td>\n",
       "      <td>100.000000</td>\n",
       "    </tr>\n",
       "    <tr>\n",
       "      <th>75%</th>\n",
       "      <td>6.000000</td>\n",
       "      <td>65.000000</td>\n",
       "      <td>60.670000</td>\n",
       "      <td>350.000000</td>\n",
       "    </tr>\n",
       "    <tr>\n",
       "      <th>max</th>\n",
       "      <td>2384.000000</td>\n",
       "      <td>16320.000000</td>\n",
       "      <td>15108.320000</td>\n",
       "      <td>577720.000000</td>\n",
       "    </tr>\n",
       "  </tbody>\n",
       "</table>\n",
       "</div>"
      ],
      "text/plain": [
       "               items            nic       act_cost       quantity\n",
       "count  973193.000000  973193.000000  973193.000000  973193.000000\n",
       "mean        9.133136      73.058915      67.986613     741.329835\n",
       "std        29.204198     188.070257     174.401703    3665.426958\n",
       "min         1.000000       0.000000       0.040000       0.000000\n",
       "25%         1.000000       7.800000       7.330000      28.000000\n",
       "50%         2.000000      22.640000      21.220000     100.000000\n",
       "75%         6.000000      65.000000      60.670000     350.000000\n",
       "max      2384.000000   16320.000000   15108.320000  577720.000000"
      ]
     },
     "execution_count": 6,
     "metadata": {},
     "output_type": "execute_result"
    }
   ],
   "source": [
    "stats"
   ]
  },
  {
   "cell_type": "code",
   "execution_count": 7,
   "metadata": {},
   "outputs": [],
   "source": [
    "#summary_stats = [('items', (0,) * 6), ('quantity', (0,) * 6), ('nic', (0,) * 6), ('act_cost', (0,) * 6)]"
   ]
  },
  {
   "cell_type": "code",
   "execution_count": 8,
   "metadata": {},
   "outputs": [
    {
     "ename": "NameError",
     "evalue": "name 'grader' is not defined",
     "output_type": "error",
     "traceback": [
      "\u001b[1;31m---------------------------------------------------------------------------\u001b[0m",
      "\u001b[1;31mNameError\u001b[0m                                 Traceback (most recent call last)",
      "\u001b[1;32m<ipython-input-8-e5a0ce6f7e9b>\u001b[0m in \u001b[0;36m<module>\u001b[1;34m\u001b[0m\n\u001b[1;32m----> 1\u001b[1;33m \u001b[0mgrader\u001b[0m\u001b[1;33m.\u001b[0m\u001b[0mscore\u001b[0m\u001b[1;33m.\u001b[0m\u001b[0mdw__summary_statistics\u001b[0m\u001b[1;33m(\u001b[0m\u001b[0msummary_stats\u001b[0m\u001b[1;33m)\u001b[0m\u001b[1;33m\u001b[0m\u001b[1;33m\u001b[0m\u001b[0m\n\u001b[0m",
      "\u001b[1;31mNameError\u001b[0m: name 'grader' is not defined"
     ]
    }
   ],
   "source": [
    "grader.score.dw__summary_statistics(summary_stats)"
   ]
  },
  {
   "cell_type": "markdown",
   "metadata": {},
   "source": [
    "## Question 2: most_common_item\n",
    "\n",
    "We can also easily compute summary statistics on groups within the data. In the `pw` miniproject we had to explicitly construct the groups based on the values of a particular field. Pandas will handle that for us via the `groupby` method. This process is [detailed in the Pandas documentation](https://pandas.pydata.org/pandas-docs/stable/groupby.html).\n",
    "\n",
    "Use `groupby` to calculate the total number of items dispensed for each `'bnf_name'`. Find the item with the highest total and return the result as `[(bnf_name, total)]`."
   ]
  },
  {
   "cell_type": "code",
   "execution_count": 9,
   "metadata": {},
   "outputs": [
    {
     "data": {
      "text/plain": [
       "items    Omeprazole_Cap E/C 20mg\n",
       "dtype: object"
      ]
     },
     "execution_count": 9,
     "metadata": {},
     "output_type": "execute_result"
    }
   ],
   "source": [
    "group_by_bnfname = scripts.groupby('bnf_name').agg({'items':'sum'})\n",
    "group_by_bnfname.idxmax()"
   ]
  },
  {
   "cell_type": "code",
   "execution_count": 10,
   "metadata": {},
   "outputs": [
    {
     "data": {
      "text/plain": [
       "items    218583\n",
       "Name: Omeprazole_Cap E/C 20mg, dtype: int64"
      ]
     },
     "execution_count": 10,
     "metadata": {},
     "output_type": "execute_result"
    }
   ],
   "source": [
    "group_by_bnfname.loc['Omeprazole_Cap E/C 20mg']"
   ]
  },
  {
   "cell_type": "code",
   "execution_count": 11,
   "metadata": {},
   "outputs": [],
   "source": [
    "#most_common_item = [(\"\", 0)]\n",
    "most_common_item = [('Omeprazole_Cap E/C 20mg',218583)]"
   ]
  },
  {
   "cell_type": "code",
   "execution_count": 12,
   "metadata": {},
   "outputs": [
    {
     "ename": "NameError",
     "evalue": "name 'grader' is not defined",
     "output_type": "error",
     "traceback": [
      "\u001b[1;31m---------------------------------------------------------------------------\u001b[0m",
      "\u001b[1;31mNameError\u001b[0m                                 Traceback (most recent call last)",
      "\u001b[1;32m<ipython-input-12-05cd7273d094>\u001b[0m in \u001b[0;36m<module>\u001b[1;34m\u001b[0m\n\u001b[1;32m----> 1\u001b[1;33m \u001b[0mgrader\u001b[0m\u001b[1;33m.\u001b[0m\u001b[0mscore\u001b[0m\u001b[1;33m.\u001b[0m\u001b[0mdw__most_common_item\u001b[0m\u001b[1;33m(\u001b[0m\u001b[0mmost_common_item\u001b[0m\u001b[1;33m)\u001b[0m\u001b[1;33m\u001b[0m\u001b[1;33m\u001b[0m\u001b[0m\n\u001b[0m",
      "\u001b[1;31mNameError\u001b[0m: name 'grader' is not defined"
     ]
    }
   ],
   "source": [
    "grader.score.dw__most_common_item(most_common_item)"
   ]
  },
  {
   "cell_type": "markdown",
   "metadata": {},
   "source": [
    "## Question 3: items_by_region\n",
    "\n",
    "Now let's find the most common item by post code. The post code information is in the `practices` DataFrame, and we'll need to `merge` it into the `scripts` DataFrame. Pandas provides [extensive documentation](https://pandas.pydata.org/pandas-docs/stable/merging.html) with diagrammed examples on different methods and approaches for joining data. The `merge` method is only one of many possible options.\n",
    "\n",
    "Return your results as a list of tuples `(post code, item name, amount dispensed as % of total)`. Sort your results ascending alphabetically by post code and take only results from the first 100 post codes.\n",
    "\n",
    "**NOTE:** Some practices have multiple postal codes associated with them. Use the alphabetically first postal code. Note some postal codes may have multiple `'bnf_name'` with the same prescription rate for the maximum. In this case, take the alphabetically first `'bnf_name'` (as in the PW miniproject)."
   ]
  },
  {
   "cell_type": "code",
   "execution_count": 21,
   "metadata": {},
   "outputs": [],
   "source": [
    "group1=practices.groupby('code')['post_code'].min().reset_index()\n",
    "\n",
    "group2=scripts.merge(group1, left_on='practice', right_on='code')\n",
    "\n",
    "sum_bnf = group2.groupby(['post_code','bnf_name'])['items'].sum().reset_index()\n",
    "\n",
    "sum_bnf_name = sum_bnf.sort_values('items', ascending = False).groupby('post_code').first()\n",
    "\n",
    "sum_overall = group2.groupby('post_code')['items'].sum().reset_index()\n",
    "\n",
    "merged_q3 = sum_bnf_name.merge(sum_overall, on = 'post_code')\n",
    "\n",
    "merged_q3['proportion'] = merged_q3['items_x'] / merged_q3['items_y']\n",
    "\n",
    "merged_Q3 = merged_q3[['post_code', 'bnf_name', 'proportion']].head(100)\n",
    "\n",
    "items_by_region = [row[1:] for row in merged_Q3.itertuples()]"
   ]
  },
  {
   "cell_type": "code",
   "execution_count": 22,
   "metadata": {},
   "outputs": [
    {
     "data": {
      "text/html": [
       "<div>\n",
       "<style scoped>\n",
       "    .dataframe tbody tr th:only-of-type {\n",
       "        vertical-align: middle;\n",
       "    }\n",
       "\n",
       "    .dataframe tbody tr th {\n",
       "        vertical-align: top;\n",
       "    }\n",
       "\n",
       "    .dataframe thead th {\n",
       "        text-align: right;\n",
       "    }\n",
       "</style>\n",
       "<table border=\"1\" class=\"dataframe\">\n",
       "  <thead>\n",
       "    <tr style=\"text-align: right;\">\n",
       "      <th></th>\n",
       "      <th>post_code</th>\n",
       "      <th>items</th>\n",
       "    </tr>\n",
       "  </thead>\n",
       "  <tbody>\n",
       "    <tr>\n",
       "      <th>0</th>\n",
       "      <td>B11 4BW</td>\n",
       "      <td>22731</td>\n",
       "    </tr>\n",
       "    <tr>\n",
       "      <th>1</th>\n",
       "      <td>B12 9LP</td>\n",
       "      <td>17073</td>\n",
       "    </tr>\n",
       "    <tr>\n",
       "      <th>2</th>\n",
       "      <td>B18 7AL</td>\n",
       "      <td>20508</td>\n",
       "    </tr>\n",
       "    <tr>\n",
       "      <th>3</th>\n",
       "      <td>B21 9RY</td>\n",
       "      <td>31027</td>\n",
       "    </tr>\n",
       "    <tr>\n",
       "      <th>4</th>\n",
       "      <td>B23 6DJ</td>\n",
       "      <td>28011</td>\n",
       "    </tr>\n",
       "  </tbody>\n",
       "</table>\n",
       "</div>"
      ],
      "text/plain": [
       "  post_code  items\n",
       "0   B11 4BW  22731\n",
       "1   B12 9LP  17073\n",
       "2   B18 7AL  20508\n",
       "3   B21 9RY  31027\n",
       "4   B23 6DJ  28011"
      ]
     },
     "execution_count": 22,
     "metadata": {},
     "output_type": "execute_result"
    }
   ],
   "source": [
    "sum_overall.head()"
   ]
  },
  {
   "cell_type": "code",
   "execution_count": 23,
   "metadata": {},
   "outputs": [
    {
     "data": {
      "text/html": [
       "<div>\n",
       "<style scoped>\n",
       "    .dataframe tbody tr th:only-of-type {\n",
       "        vertical-align: middle;\n",
       "    }\n",
       "\n",
       "    .dataframe tbody tr th {\n",
       "        vertical-align: top;\n",
       "    }\n",
       "\n",
       "    .dataframe thead th {\n",
       "        text-align: right;\n",
       "    }\n",
       "</style>\n",
       "<table border=\"1\" class=\"dataframe\">\n",
       "  <thead>\n",
       "    <tr style=\"text-align: right;\">\n",
       "      <th></th>\n",
       "      <th>bnf_name</th>\n",
       "      <th>items</th>\n",
       "    </tr>\n",
       "    <tr>\n",
       "      <th>post_code</th>\n",
       "      <th></th>\n",
       "      <th></th>\n",
       "    </tr>\n",
       "  </thead>\n",
       "  <tbody>\n",
       "    <tr>\n",
       "      <th>B11 4BW</th>\n",
       "      <td>Salbutamol_Inha 100mcg (200 D) CFF</td>\n",
       "      <td>706</td>\n",
       "    </tr>\n",
       "    <tr>\n",
       "      <th>B12 9LP</th>\n",
       "      <td>Paracet_Tab 500mg</td>\n",
       "      <td>425</td>\n",
       "    </tr>\n",
       "    <tr>\n",
       "      <th>B18 7AL</th>\n",
       "      <td>Salbutamol_Inha 100mcg (200 D) CFF</td>\n",
       "      <td>556</td>\n",
       "    </tr>\n",
       "    <tr>\n",
       "      <th>B21 9RY</th>\n",
       "      <td>Metformin HCl_Tab 500mg</td>\n",
       "      <td>1033</td>\n",
       "    </tr>\n",
       "    <tr>\n",
       "      <th>B23 6DJ</th>\n",
       "      <td>Lansoprazole_Cap 30mg (E/C Gran)</td>\n",
       "      <td>599</td>\n",
       "    </tr>\n",
       "  </tbody>\n",
       "</table>\n",
       "</div>"
      ],
      "text/plain": [
       "                                     bnf_name  items\n",
       "post_code                                           \n",
       "B11 4BW    Salbutamol_Inha 100mcg (200 D) CFF    706\n",
       "B12 9LP                     Paracet_Tab 500mg    425\n",
       "B18 7AL    Salbutamol_Inha 100mcg (200 D) CFF    556\n",
       "B21 9RY               Metformin HCl_Tab 500mg   1033\n",
       "B23 6DJ      Lansoprazole_Cap 30mg (E/C Gran)    599"
      ]
     },
     "execution_count": 23,
     "metadata": {},
     "output_type": "execute_result"
    }
   ],
   "source": [
    "sum_bnf_name.head()"
   ]
  },
  {
   "cell_type": "code",
   "execution_count": 24,
   "metadata": {},
   "outputs": [
    {
     "data": {
      "text/html": [
       "<div>\n",
       "<style scoped>\n",
       "    .dataframe tbody tr th:only-of-type {\n",
       "        vertical-align: middle;\n",
       "    }\n",
       "\n",
       "    .dataframe tbody tr th {\n",
       "        vertical-align: top;\n",
       "    }\n",
       "\n",
       "    .dataframe thead th {\n",
       "        text-align: right;\n",
       "    }\n",
       "</style>\n",
       "<table border=\"1\" class=\"dataframe\">\n",
       "  <thead>\n",
       "    <tr style=\"text-align: right;\">\n",
       "      <th></th>\n",
       "      <th>post_code</th>\n",
       "      <th>bnf_name</th>\n",
       "      <th>items_x</th>\n",
       "      <th>items_y</th>\n",
       "    </tr>\n",
       "  </thead>\n",
       "  <tbody>\n",
       "    <tr>\n",
       "      <th>0</th>\n",
       "      <td>B11 4BW</td>\n",
       "      <td>Salbutamol_Inha 100mcg (200 D) CFF</td>\n",
       "      <td>706</td>\n",
       "      <td>22731</td>\n",
       "    </tr>\n",
       "    <tr>\n",
       "      <th>1</th>\n",
       "      <td>B12 9LP</td>\n",
       "      <td>Paracet_Tab 500mg</td>\n",
       "      <td>425</td>\n",
       "      <td>17073</td>\n",
       "    </tr>\n",
       "    <tr>\n",
       "      <th>2</th>\n",
       "      <td>B18 7AL</td>\n",
       "      <td>Salbutamol_Inha 100mcg (200 D) CFF</td>\n",
       "      <td>556</td>\n",
       "      <td>20508</td>\n",
       "    </tr>\n",
       "    <tr>\n",
       "      <th>3</th>\n",
       "      <td>B21 9RY</td>\n",
       "      <td>Metformin HCl_Tab 500mg</td>\n",
       "      <td>1033</td>\n",
       "      <td>31027</td>\n",
       "    </tr>\n",
       "    <tr>\n",
       "      <th>4</th>\n",
       "      <td>B23 6DJ</td>\n",
       "      <td>Lansoprazole_Cap 30mg (E/C Gran)</td>\n",
       "      <td>599</td>\n",
       "      <td>28011</td>\n",
       "    </tr>\n",
       "  </tbody>\n",
       "</table>\n",
       "</div>"
      ],
      "text/plain": [
       "  post_code                            bnf_name  items_x  items_y\n",
       "0   B11 4BW  Salbutamol_Inha 100mcg (200 D) CFF      706    22731\n",
       "1   B12 9LP                   Paracet_Tab 500mg      425    17073\n",
       "2   B18 7AL  Salbutamol_Inha 100mcg (200 D) CFF      556    20508\n",
       "3   B21 9RY             Metformin HCl_Tab 500mg     1033    31027\n",
       "4   B23 6DJ    Lansoprazole_Cap 30mg (E/C Gran)      599    28011"
      ]
     },
     "execution_count": 24,
     "metadata": {},
     "output_type": "execute_result"
    }
   ],
   "source": [
    "sum_bnf_name.merge(sum_overall,on='post_code').head()"
   ]
  },
  {
   "cell_type": "code",
   "execution_count": 25,
   "metadata": {},
   "outputs": [],
   "source": [
    "#items_by_region = [(\"B11 4BW\", \"Salbutamol_Inha 100mcg (200 D) CFF\", 0.0310589063)] * 100"
   ]
  },
  {
   "cell_type": "code",
   "execution_count": 26,
   "metadata": {},
   "outputs": [
    {
     "ename": "NameError",
     "evalue": "name 'grader' is not defined",
     "output_type": "error",
     "traceback": [
      "\u001b[1;31m---------------------------------------------------------------------------\u001b[0m",
      "\u001b[1;31mNameError\u001b[0m                                 Traceback (most recent call last)",
      "\u001b[1;32m<ipython-input-26-7f3978e9228d>\u001b[0m in \u001b[0;36m<module>\u001b[1;34m\u001b[0m\n\u001b[1;32m----> 1\u001b[1;33m \u001b[0mgrader\u001b[0m\u001b[1;33m.\u001b[0m\u001b[0mscore\u001b[0m\u001b[1;33m.\u001b[0m\u001b[0mdw__items_by_region\u001b[0m\u001b[1;33m(\u001b[0m\u001b[0mitems_by_region\u001b[0m\u001b[1;33m)\u001b[0m\u001b[1;33m\u001b[0m\u001b[1;33m\u001b[0m\u001b[0m\n\u001b[0m",
      "\u001b[1;31mNameError\u001b[0m: name 'grader' is not defined"
     ]
    }
   ],
   "source": [
    "grader.score.dw__items_by_region(items_by_region)"
   ]
  },
  {
   "cell_type": "markdown",
   "metadata": {},
   "source": [
    "## Question 4: script_anomalies\n",
    "\n",
    "Drug abuse is a source of human and monetary costs in health care. A first step in identifying practitioners that enable drug abuse is to look for practices where commonly abused drugs are prescribed unusually often. Let's try to find practices that prescribe an unusually high amount of opioids. The opioids we'll look for are given in the list below."
   ]
  },
  {
   "cell_type": "code",
   "execution_count": 27,
   "metadata": {},
   "outputs": [],
   "source": [
    "opioids = ['morphine', 'oxycodone', 'methadone', 'fentanyl', 'pethidine', 'buprenorphine', 'propoxyphene', 'codeine']"
   ]
  },
  {
   "cell_type": "markdown",
   "metadata": {},
   "source": [
    "These are generic names for drugs, not brand names. Generic drug names can be found using the `'bnf_code'` field in `scripts` along with the `chem` table.. Use the list of opioids provided above along with these fields to make a new field in the `scripts` data that flags whether the row corresponds with a opioid prescription."
   ]
  },
  {
   "cell_type": "code",
   "execution_count": 32,
   "metadata": {},
   "outputs": [
    {
     "data": {
      "text/plain": [
       "88     0104020D0\n",
       "91     0104020N0\n",
       "691    0309010C0\n",
       "693    0309010N0\n",
       "695    0309010S0\n",
       "Name: CHEM SUB, dtype: object"
      ]
     },
     "execution_count": 32,
     "metadata": {},
     "output_type": "execute_result"
    }
   ],
   "source": [
    "opioid_codes.head()"
   ]
  },
  {
   "cell_type": "code",
   "execution_count": 31,
   "metadata": {},
   "outputs": [
    {
     "data": {
      "text/html": [
       "<div>\n",
       "<style scoped>\n",
       "    .dataframe tbody tr th:only-of-type {\n",
       "        vertical-align: middle;\n",
       "    }\n",
       "\n",
       "    .dataframe tbody tr th {\n",
       "        vertical-align: top;\n",
       "    }\n",
       "\n",
       "    .dataframe thead th {\n",
       "        text-align: right;\n",
       "    }\n",
       "</style>\n",
       "<table border=\"1\" class=\"dataframe\">\n",
       "  <thead>\n",
       "    <tr style=\"text-align: right;\">\n",
       "      <th></th>\n",
       "      <th>practice</th>\n",
       "      <th>bnf_code</th>\n",
       "      <th>bnf_name</th>\n",
       "      <th>items</th>\n",
       "      <th>nic</th>\n",
       "      <th>act_cost</th>\n",
       "      <th>quantity</th>\n",
       "      <th>opioids</th>\n",
       "    </tr>\n",
       "  </thead>\n",
       "  <tbody>\n",
       "    <tr>\n",
       "      <th>0</th>\n",
       "      <td>N85639</td>\n",
       "      <td>0106020C0</td>\n",
       "      <td>Bisacodyl_Tab E/C 5mg</td>\n",
       "      <td>1</td>\n",
       "      <td>0.39</td>\n",
       "      <td>0.47</td>\n",
       "      <td>12</td>\n",
       "      <td>0</td>\n",
       "    </tr>\n",
       "    <tr>\n",
       "      <th>1</th>\n",
       "      <td>N85639</td>\n",
       "      <td>0106040M0</td>\n",
       "      <td>Movicol Plain_Paed Pdr Sach 6.9g</td>\n",
       "      <td>1</td>\n",
       "      <td>4.38</td>\n",
       "      <td>4.07</td>\n",
       "      <td>30</td>\n",
       "      <td>0</td>\n",
       "    </tr>\n",
       "    <tr>\n",
       "      <th>2</th>\n",
       "      <td>N85639</td>\n",
       "      <td>0301011R0</td>\n",
       "      <td>Salbutamol_Inha 100mcg (200 D) CFF</td>\n",
       "      <td>1</td>\n",
       "      <td>1.50</td>\n",
       "      <td>1.40</td>\n",
       "      <td>1</td>\n",
       "      <td>0</td>\n",
       "    </tr>\n",
       "    <tr>\n",
       "      <th>3</th>\n",
       "      <td>N85639</td>\n",
       "      <td>0304010G0</td>\n",
       "      <td>Chlorphenamine Mal_Oral Soln 2mg/5ml</td>\n",
       "      <td>1</td>\n",
       "      <td>2.62</td>\n",
       "      <td>2.44</td>\n",
       "      <td>150</td>\n",
       "      <td>0</td>\n",
       "    </tr>\n",
       "    <tr>\n",
       "      <th>4</th>\n",
       "      <td>N85639</td>\n",
       "      <td>0401020K0</td>\n",
       "      <td>Diazepam_Tab 2mg</td>\n",
       "      <td>1</td>\n",
       "      <td>0.16</td>\n",
       "      <td>0.26</td>\n",
       "      <td>6</td>\n",
       "      <td>0</td>\n",
       "    </tr>\n",
       "  </tbody>\n",
       "</table>\n",
       "</div>"
      ],
      "text/plain": [
       "  practice   bnf_code                              bnf_name  items   nic  \\\n",
       "0   N85639  0106020C0                 Bisacodyl_Tab E/C 5mg      1  0.39   \n",
       "1   N85639  0106040M0      Movicol Plain_Paed Pdr Sach 6.9g      1  4.38   \n",
       "2   N85639  0301011R0    Salbutamol_Inha 100mcg (200 D) CFF      1  1.50   \n",
       "3   N85639  0304010G0  Chlorphenamine Mal_Oral Soln 2mg/5ml      1  2.62   \n",
       "4   N85639  0401020K0                      Diazepam_Tab 2mg      1  0.16   \n",
       "\n",
       "   act_cost  quantity  opioids  \n",
       "0      0.47        12        0  \n",
       "1      4.07        30        0  \n",
       "2      1.40         1        0  \n",
       "3      2.44       150        0  \n",
       "4      0.26         6        0  "
      ]
     },
     "execution_count": 31,
     "metadata": {},
     "output_type": "execute_result"
    }
   ],
   "source": [
    "mask = chem['NAME'].str.contains('|'.join(opioids), case=False)\n",
    "opioid_codes = chem[mask]['CHEM SUB']\n",
    "opioid_codes.head()\n",
    "\n",
    "scripts['opioids'] = scripts['bnf_code'].isin(opioid_codes).astype(int)\n",
    "scripts.head()"
   ]
  },
  {
   "cell_type": "markdown",
   "metadata": {},
   "source": [
    "Now for each practice calculate the proportion of its prescriptions containing opioids.\n",
    "\n",
    "**Hint:** Consider the following list: `[0, 1, 1, 0, 0, 0]`. What proportion of the entries are 1s? What is the mean value?"
   ]
  },
  {
   "cell_type": "code",
   "execution_count": 33,
   "metadata": {},
   "outputs": [],
   "source": [
    "grp1 = scripts.groupby('practice').agg({'opioids':['sum','count']})"
   ]
  },
  {
   "cell_type": "code",
   "execution_count": 34,
   "metadata": {},
   "outputs": [],
   "source": [
    "grp1.columns =['opioids_sum','opioids_count']"
   ]
  },
  {
   "cell_type": "code",
   "execution_count": 35,
   "metadata": {},
   "outputs": [],
   "source": [
    "grp1['prop']=grp1['opioids_sum']/grp1['opioids_count']"
   ]
  },
  {
   "cell_type": "code",
   "execution_count": 36,
   "metadata": {},
   "outputs": [
    {
     "data": {
      "text/plain": [
       "0.03580276471367961"
      ]
     },
     "execution_count": 36,
     "metadata": {},
     "output_type": "execute_result"
    }
   ],
   "source": [
    "overall_opioids_rate=grp1['opioids_sum'].sum()/grp1['opioids_count'].sum()\n",
    "overall_opioids_rate"
   ]
  },
  {
   "cell_type": "code",
   "execution_count": 37,
   "metadata": {},
   "outputs": [],
   "source": [
    "grp1['rel_prop']=grp1['prop']-overall_opioids_rate"
   ]
  },
  {
   "cell_type": "code",
   "execution_count": 38,
   "metadata": {},
   "outputs": [
    {
     "data": {
      "text/html": [
       "<div>\n",
       "<style scoped>\n",
       "    .dataframe tbody tr th:only-of-type {\n",
       "        vertical-align: middle;\n",
       "    }\n",
       "\n",
       "    .dataframe tbody tr th {\n",
       "        vertical-align: top;\n",
       "    }\n",
       "\n",
       "    .dataframe thead th {\n",
       "        text-align: right;\n",
       "    }\n",
       "</style>\n",
       "<table border=\"1\" class=\"dataframe\">\n",
       "  <thead>\n",
       "    <tr style=\"text-align: right;\">\n",
       "      <th></th>\n",
       "      <th>opioids_sum</th>\n",
       "      <th>opioids_count</th>\n",
       "      <th>prop</th>\n",
       "      <th>rel_prop</th>\n",
       "    </tr>\n",
       "    <tr>\n",
       "      <th>practice</th>\n",
       "      <th></th>\n",
       "      <th></th>\n",
       "      <th></th>\n",
       "      <th></th>\n",
       "    </tr>\n",
       "  </thead>\n",
       "  <tbody>\n",
       "    <tr>\n",
       "      <th>A81005</th>\n",
       "      <td>50</td>\n",
       "      <td>1507</td>\n",
       "      <td>0.033179</td>\n",
       "      <td>-0.002624</td>\n",
       "    </tr>\n",
       "    <tr>\n",
       "      <th>A81007</th>\n",
       "      <td>63</td>\n",
       "      <td>1454</td>\n",
       "      <td>0.043329</td>\n",
       "      <td>0.007526</td>\n",
       "    </tr>\n",
       "    <tr>\n",
       "      <th>A81011</th>\n",
       "      <td>73</td>\n",
       "      <td>1568</td>\n",
       "      <td>0.046556</td>\n",
       "      <td>0.010753</td>\n",
       "    </tr>\n",
       "    <tr>\n",
       "      <th>A81012</th>\n",
       "      <td>57</td>\n",
       "      <td>1332</td>\n",
       "      <td>0.042793</td>\n",
       "      <td>0.006990</td>\n",
       "    </tr>\n",
       "    <tr>\n",
       "      <th>A81017</th>\n",
       "      <td>82</td>\n",
       "      <td>2150</td>\n",
       "      <td>0.038140</td>\n",
       "      <td>0.002337</td>\n",
       "    </tr>\n",
       "  </tbody>\n",
       "</table>\n",
       "</div>"
      ],
      "text/plain": [
       "          opioids_sum  opioids_count      prop  rel_prop\n",
       "practice                                                \n",
       "A81005             50           1507  0.033179 -0.002624\n",
       "A81007             63           1454  0.043329  0.007526\n",
       "A81011             73           1568  0.046556  0.010753\n",
       "A81012             57           1332  0.042793  0.006990\n",
       "A81017             82           2150  0.038140  0.002337"
      ]
     },
     "execution_count": 38,
     "metadata": {},
     "output_type": "execute_result"
    }
   ],
   "source": [
    "grp1.head()"
   ]
  },
  {
   "cell_type": "code",
   "execution_count": 39,
   "metadata": {},
   "outputs": [],
   "source": [
    "opioids_per_practice = ..."
   ]
  },
  {
   "cell_type": "markdown",
   "metadata": {},
   "source": [
    "How do these proportions compare to the overall opioid prescription rate? Subtract off the proportion of all prescriptions that are opioids from each practice's proportion."
   ]
  },
  {
   "cell_type": "code",
   "execution_count": 40,
   "metadata": {},
   "outputs": [],
   "source": [
    "relative_opioids_per_practice = ..."
   ]
  },
  {
   "cell_type": "code",
   "execution_count": 41,
   "metadata": {},
   "outputs": [],
   "source": [
    "grp1['std_err']=np.sqrt(scripts['opioids'].var()/scripts['practice'].value_counts())"
   ]
  },
  {
   "cell_type": "code",
   "execution_count": 42,
   "metadata": {},
   "outputs": [
    {
     "data": {
      "text/html": [
       "<div>\n",
       "<style scoped>\n",
       "    .dataframe tbody tr th:only-of-type {\n",
       "        vertical-align: middle;\n",
       "    }\n",
       "\n",
       "    .dataframe tbody tr th {\n",
       "        vertical-align: top;\n",
       "    }\n",
       "\n",
       "    .dataframe thead th {\n",
       "        text-align: right;\n",
       "    }\n",
       "</style>\n",
       "<table border=\"1\" class=\"dataframe\">\n",
       "  <thead>\n",
       "    <tr style=\"text-align: right;\">\n",
       "      <th></th>\n",
       "      <th>opioids_sum</th>\n",
       "      <th>opioids_count</th>\n",
       "      <th>prop</th>\n",
       "      <th>rel_prop</th>\n",
       "      <th>std_err</th>\n",
       "    </tr>\n",
       "    <tr>\n",
       "      <th>practice</th>\n",
       "      <th></th>\n",
       "      <th></th>\n",
       "      <th></th>\n",
       "      <th></th>\n",
       "      <th></th>\n",
       "    </tr>\n",
       "  </thead>\n",
       "  <tbody>\n",
       "    <tr>\n",
       "      <th>A81005</th>\n",
       "      <td>50</td>\n",
       "      <td>1507</td>\n",
       "      <td>0.033179</td>\n",
       "      <td>-0.002624</td>\n",
       "      <td>0.004786</td>\n",
       "    </tr>\n",
       "    <tr>\n",
       "      <th>A81007</th>\n",
       "      <td>63</td>\n",
       "      <td>1454</td>\n",
       "      <td>0.043329</td>\n",
       "      <td>0.007526</td>\n",
       "      <td>0.004873</td>\n",
       "    </tr>\n",
       "    <tr>\n",
       "      <th>A81011</th>\n",
       "      <td>73</td>\n",
       "      <td>1568</td>\n",
       "      <td>0.046556</td>\n",
       "      <td>0.010753</td>\n",
       "      <td>0.004692</td>\n",
       "    </tr>\n",
       "    <tr>\n",
       "      <th>A81012</th>\n",
       "      <td>57</td>\n",
       "      <td>1332</td>\n",
       "      <td>0.042793</td>\n",
       "      <td>0.006990</td>\n",
       "      <td>0.005091</td>\n",
       "    </tr>\n",
       "    <tr>\n",
       "      <th>A81017</th>\n",
       "      <td>82</td>\n",
       "      <td>2150</td>\n",
       "      <td>0.038140</td>\n",
       "      <td>0.002337</td>\n",
       "      <td>0.004007</td>\n",
       "    </tr>\n",
       "  </tbody>\n",
       "</table>\n",
       "</div>"
      ],
      "text/plain": [
       "          opioids_sum  opioids_count      prop  rel_prop   std_err\n",
       "practice                                                          \n",
       "A81005             50           1507  0.033179 -0.002624  0.004786\n",
       "A81007             63           1454  0.043329  0.007526  0.004873\n",
       "A81011             73           1568  0.046556  0.010753  0.004692\n",
       "A81012             57           1332  0.042793  0.006990  0.005091\n",
       "A81017             82           2150  0.038140  0.002337  0.004007"
      ]
     },
     "execution_count": 42,
     "metadata": {},
     "output_type": "execute_result"
    }
   ],
   "source": [
    "grp1.head()"
   ]
  },
  {
   "cell_type": "code",
   "execution_count": 43,
   "metadata": {},
   "outputs": [],
   "source": [
    "grp1['opioid_scores']=grp1['rel_prop']/grp1['std_err']"
   ]
  },
  {
   "cell_type": "code",
   "execution_count": 44,
   "metadata": {},
   "outputs": [],
   "source": [
    "grp2=practices[['code','name']]"
   ]
  },
  {
   "cell_type": "code",
   "execution_count": 45,
   "metadata": {},
   "outputs": [],
   "source": [
    "grp2.columns=['practice','name']"
   ]
  },
  {
   "cell_type": "code",
   "execution_count": 46,
   "metadata": {},
   "outputs": [],
   "source": [
    "grp2=grp2.merge(grp1,on='practice')"
   ]
  },
  {
   "cell_type": "code",
   "execution_count": 47,
   "metadata": {},
   "outputs": [
    {
     "data": {
      "text/html": [
       "<div>\n",
       "<style scoped>\n",
       "    .dataframe tbody tr th:only-of-type {\n",
       "        vertical-align: middle;\n",
       "    }\n",
       "\n",
       "    .dataframe tbody tr th {\n",
       "        vertical-align: top;\n",
       "    }\n",
       "\n",
       "    .dataframe thead th {\n",
       "        text-align: right;\n",
       "    }\n",
       "</style>\n",
       "<table border=\"1\" class=\"dataframe\">\n",
       "  <thead>\n",
       "    <tr style=\"text-align: right;\">\n",
       "      <th></th>\n",
       "      <th>practice</th>\n",
       "      <th>name</th>\n",
       "      <th>opioids_sum</th>\n",
       "      <th>opioids_count</th>\n",
       "      <th>prop</th>\n",
       "      <th>rel_prop</th>\n",
       "      <th>std_err</th>\n",
       "      <th>opioid_scores</th>\n",
       "    </tr>\n",
       "  </thead>\n",
       "  <tbody>\n",
       "    <tr>\n",
       "      <th>0</th>\n",
       "      <td>A81005</td>\n",
       "      <td>SPRINGWOOD SURGERY</td>\n",
       "      <td>50</td>\n",
       "      <td>1507</td>\n",
       "      <td>0.033179</td>\n",
       "      <td>-0.002624</td>\n",
       "      <td>0.004786</td>\n",
       "      <td>-0.548306</td>\n",
       "    </tr>\n",
       "    <tr>\n",
       "      <th>1</th>\n",
       "      <td>A81007</td>\n",
       "      <td>BANKHOUSE SURGERY</td>\n",
       "      <td>63</td>\n",
       "      <td>1454</td>\n",
       "      <td>0.043329</td>\n",
       "      <td>0.007526</td>\n",
       "      <td>0.004873</td>\n",
       "      <td>1.544557</td>\n",
       "    </tr>\n",
       "    <tr>\n",
       "      <th>2</th>\n",
       "      <td>A81011</td>\n",
       "      <td>CHADWICK PRACTICE</td>\n",
       "      <td>73</td>\n",
       "      <td>1568</td>\n",
       "      <td>0.046556</td>\n",
       "      <td>0.010753</td>\n",
       "      <td>0.004692</td>\n",
       "      <td>2.291795</td>\n",
       "    </tr>\n",
       "    <tr>\n",
       "      <th>3</th>\n",
       "      <td>A81012</td>\n",
       "      <td>WESTBOURNE MEDICAL CENTRE</td>\n",
       "      <td>57</td>\n",
       "      <td>1332</td>\n",
       "      <td>0.042793</td>\n",
       "      <td>0.006990</td>\n",
       "      <td>0.005091</td>\n",
       "      <td>1.373060</td>\n",
       "    </tr>\n",
       "    <tr>\n",
       "      <th>4</th>\n",
       "      <td>A81017</td>\n",
       "      <td>WOODBRIDGE PRACTICE</td>\n",
       "      <td>82</td>\n",
       "      <td>2150</td>\n",
       "      <td>0.038140</td>\n",
       "      <td>0.002337</td>\n",
       "      <td>0.004007</td>\n",
       "      <td>0.583168</td>\n",
       "    </tr>\n",
       "  </tbody>\n",
       "</table>\n",
       "</div>"
      ],
      "text/plain": [
       "  practice                       name  opioids_sum  opioids_count      prop  \\\n",
       "0   A81005         SPRINGWOOD SURGERY           50           1507  0.033179   \n",
       "1   A81007          BANKHOUSE SURGERY           63           1454  0.043329   \n",
       "2   A81011          CHADWICK PRACTICE           73           1568  0.046556   \n",
       "3   A81012  WESTBOURNE MEDICAL CENTRE           57           1332  0.042793   \n",
       "4   A81017        WOODBRIDGE PRACTICE           82           2150  0.038140   \n",
       "\n",
       "   rel_prop   std_err  opioid_scores  \n",
       "0 -0.002624  0.004786      -0.548306  \n",
       "1  0.007526  0.004873       1.544557  \n",
       "2  0.010753  0.004692       2.291795  \n",
       "3  0.006990  0.005091       1.373060  \n",
       "4  0.002337  0.004007       0.583168  "
      ]
     },
     "execution_count": 47,
     "metadata": {},
     "output_type": "execute_result"
    }
   ],
   "source": [
    "grp2.head()"
   ]
  },
  {
   "cell_type": "code",
   "execution_count": 48,
   "metadata": {},
   "outputs": [],
   "source": [
    "final_answ = [row[1:] for row in grp2[['name','opioid_scores','opioids_count']].head(100).sort_values('opioid_scores',ascending=False).itertuples()]"
   ]
  },
  {
   "cell_type": "code",
   "execution_count": 49,
   "metadata": {},
   "outputs": [
    {
     "data": {
      "text/plain": [
       "[('THE PARK SURGERY', 3.5111147363638393, 969),\n",
       " ('THE ROSEBERRY PRACTICE', 2.980358948635496, 1450),\n",
       " ('PRACTICE 3  MEDICAL CENTRE  BRIDLINGTON', 2.6526642039661223, 1936),\n",
       " ('CHADWICK PRACTICE', 2.2917945205531756, 1568),\n",
       " ('ST ANDREWS - BRANSHOLME', 2.196702590889734, 1634)]"
      ]
     },
     "execution_count": 49,
     "metadata": {},
     "output_type": "execute_result"
    }
   ],
   "source": [
    "final_answ[:5]"
   ]
  },
  {
   "cell_type": "markdown",
   "metadata": {},
   "source": [
    "Now that we know the difference between each practice's opioid prescription rate and the overall rate, we can identify which practices prescribe opioids at above average or below average rates. However, are the differences from the overall rate important or just random deviations? In other words, are the differences from the overall rate big or small?\n",
    "\n",
    "To answer this question we have to quantify the difference we would typically expect between a given practice's opioid prescription rate and the overall rate. This quantity is called the **standard error**, and is related to the **standard deviation**, $\\sigma$. The standard error in this case is\n",
    "\n",
    "$$ \\frac{\\sigma}{\\sqrt{n}} $$\n",
    "\n",
    "where $n$ is the number of prescriptions each practice made. Calculate the standard error for each practice. Then divide `relative_opioids_per_practice` by the standard errors. We'll call the final result `opioid_scores`."
   ]
  },
  {
   "cell_type": "code",
   "execution_count": null,
   "metadata": {},
   "outputs": [],
   "source": [
    "standard_error_per_practice = ...\n",
    "opioid_scores = ..."
   ]
  },
  {
   "cell_type": "markdown",
   "metadata": {},
   "source": [
    "The quantity we have calculated in `opioid_scores` is called a **z-score**:\n",
    "\n",
    "$$ \\frac{\\bar{X} - \\mu}{\\sqrt{\\sigma^2/n}} $$\n",
    "\n",
    "Here $\\bar{X}$ corresponds with the proportion for each practice, $\\mu$ corresponds with the proportion across all practices, $\\sigma^2$ corresponds with the variance of the proportion across all practices, and $n$ is the number of prescriptions made by each practice. Notice $\\bar{X}$ and $n$ will be different for each practice, while $\\mu$ and $\\sigma$ are determined across all prescriptions, and so are the same for every z-score. The z-score is a useful statistical tool used for hypothesis testing, finding outliers, and comparing data about different types of objects or events.\n",
    "\n",
    "Now that we've calculated this statistic, take the 100 practices with the largest z-score. Return your result as a list of tuples in the form `(practice_name, z-score, number_of_scripts)`. Sort your tuples by z-score in descending order. Note that some practice codes will correspond with multiple names. In this case, use the first match when sorting names alphabetically."
   ]
  },
  {
   "cell_type": "code",
   "execution_count": 50,
   "metadata": {},
   "outputs": [
    {
     "ename": "NameError",
     "evalue": "name 'grader' is not defined",
     "output_type": "error",
     "traceback": [
      "\u001b[1;31m---------------------------------------------------------------------------\u001b[0m",
      "\u001b[1;31mNameError\u001b[0m                                 Traceback (most recent call last)",
      "\u001b[1;32m<ipython-input-50-3a7afdde77a6>\u001b[0m in \u001b[0;36m<module>\u001b[1;34m\u001b[0m\n\u001b[0;32m     35\u001b[0m \u001b[0manomalies\u001b[0m \u001b[1;33m=\u001b[0m \u001b[0msorted\u001b[0m\u001b[1;33m(\u001b[0m\u001b[0manomalies\u001b[0m\u001b[1;33m,\u001b[0m \u001b[0mkey\u001b[0m\u001b[1;33m=\u001b[0m\u001b[1;32mlambda\u001b[0m \u001b[0mx\u001b[0m\u001b[1;33m:\u001b[0m \u001b[0mx\u001b[0m\u001b[1;33m[\u001b[0m\u001b[1;36m1\u001b[0m\u001b[1;33m]\u001b[0m\u001b[1;33m,\u001b[0m \u001b[0mreverse\u001b[0m\u001b[1;33m=\u001b[0m\u001b[1;32mTrue\u001b[0m\u001b[1;33m)\u001b[0m\u001b[1;33m[\u001b[0m\u001b[1;33m:\u001b[0m\u001b[1;36m100\u001b[0m\u001b[1;33m]\u001b[0m\u001b[1;33m\u001b[0m\u001b[1;33m\u001b[0m\u001b[0m\n\u001b[0;32m     36\u001b[0m \u001b[1;33m\u001b[0m\u001b[0m\n\u001b[1;32m---> 37\u001b[1;33m \u001b[0mgrader\u001b[0m\u001b[1;33m.\u001b[0m\u001b[0mscore\u001b[0m\u001b[1;33m.\u001b[0m\u001b[0mdw__script_anomalies\u001b[0m\u001b[1;33m(\u001b[0m\u001b[0manomalies\u001b[0m\u001b[1;33m)\u001b[0m\u001b[1;33m\u001b[0m\u001b[1;33m\u001b[0m\u001b[0m\n\u001b[0m",
      "\u001b[1;31mNameError\u001b[0m: name 'grader' is not defined"
     ]
    }
   ],
   "source": [
    "#office Hours\n",
    "ops = '|'.join(opioids)\n",
    "\n",
    "bnf_by_practice = scripts.groupby('practice').agg({'bnf_code': 'count'}).rename(columns={'bnf_code':'bnf_sum'})\n",
    "\n",
    "scripts_chem = pd.merge(scripts, chem, left_on='bnf_code', right_on='CHEM SUB', how='left', sort=False)\n",
    "\n",
    "scripts_chem['opioid?'] = (scripts_chem['NAME'].str.contains(ops, case=False) |\n",
    "                           scripts_chem['bnf_name'].str.contains(ops, case=False))\n",
    "\n",
    "opioids_per_practice =  scripts_chem.groupby('practice')['opioid?'].mean()\n",
    "\n",
    "overall_opioids_rate = scripts_chem['opioid?'].mean()\n",
    "\n",
    "relative_opioids_per_practice = opioids_per_practice - overall_opioids_rate\n",
    "\n",
    "overall_opioids_std = scripts_chem['opioid?'].std()\n",
    "\n",
    "standard_error_per_practice =  overall_opioids_std / np.sqrt(bnf_by_practice.bnf_sum)\n",
    "opioid_scores = (relative_opioids_per_practice / standard_error_per_practice).reset_index(name='opioid_scores')\n",
    "\n",
    "unique_practices = practices.sort_values(by='name').groupby('code', sort=False).first()\n",
    "\n",
    "unique_practices.reset_index(inplace=True)\n",
    "final_merge = opioid_scores.merge(unique_practices[['code','name']], left_on='practice',\n",
    "                                      right_on='code', how='left')\n",
    "\n",
    "results = final_merge.merge(bnf_by_practice.reset_index(), on='practice')\n",
    "\n",
    "\n",
    "subset = results[['name', 'opioid_scores', 'bnf_sum']]\n",
    "\n",
    "anomalies = [tuple(val) for val in subset.values]\n",
    "\n",
    "anomalies = sorted(anomalies, key=lambda x: x[1], reverse=True)[:100]\n",
    "\n",
    "grader.score.dw__script_anomalies(anomalies)\n"
   ]
  },
  {
   "cell_type": "code",
   "execution_count": 51,
   "metadata": {},
   "outputs": [
    {
     "name": "stdout",
     "output_type": "stream",
     "text": [
      "[('NATIONAL ENHANCED SERVICE', 11.699209097759136, 7), ('OUTREACH SERVICE NH / RH', 7.341144822045991, 2), ('BRISDOC HEALTHCARE SERVICES OOH', 6.1530412888348085, 60), ('H&R P C SPECIAL SCHEME', 5.125032967275007, 36), ('HMR BARDOC OOH', 4.962091311252586, 321), ('DARWEN HEALTHCARE', 4.954095807373403, 1917), ('INTEGRATED CARE 24 LTD (CWSX OOH)', 4.892374195851049, 426), ('THE LIMES MEDICAL PRACTICE', 4.534452381671439, 1321), ('IC24 LTD (BRIGHTON & HOVE OOH)', 4.3382100812948154, 357), ('OLDHAM 7 DAY ACCESS HUB2 OOH', 4.313726724643943, 56), ('IC24 LTD (NORFOLK & WISBECH OOH)', 4.260985551001909, 489), ('ROSSENDALE MIU & OOH', 4.258410699487984, 18), ('BURY WALK-IN CENTRE', 4.152942664215405, 138), ('IC24 LTD (HORSHAM & MID SUSSEX OOH)', 3.7841863697802585, 215), ('LCW HOUNSLOW CCG OOH', 3.5846850269075774, 69), ('WEEKEND WORKING EASINGTON NORTH', 3.5686610126605642, 278), ('COMPASS ENFIELD', 3.559947987224374, 7), ('BASSETLAW DRUG & ALCOHOL SERVICE', 3.534354014906708, 2), ('THE PARK SURGERY', 3.515360526768244, 969), ('CHAPEL STREET SURGERY', 3.488513740905188, 1504), ('BEECHWOOD MEDICAL PRACTICE', 3.472783478378863, 1552), ('BASSETLAW HOSPICE OF THE GOOD SHEPHERD', 3.456063571231854, 46), ('CARDEN SURGERY', 3.455174292983251, 1375), ('GP IN A&E (WIC)', 3.3978131408148813, 87), ('NORTHAMPTONSHIRE OOH SERVICE', 3.3965412266669794, 382), ('WORDEN MEDICAL CENTRE', 3.3406704393154545, 1898), ('BRISDOC HEALTHCARE SERVICES OOH', 3.337061645021116, 566), ('BURY OOH', 3.324230940753404, 292), ('IC24 SOUTHEND/CP&R CCG OOH', 3.2239221883539257, 336), ('IC24 LTD (CRAWLEY OOH)', 3.196512931845654, 173), ('EASTBOURNE  HAILSHAM & SEAFORD OOH', 2.9921865871245084, 255), ('THE ROSEBERRY PRACTICE', 2.9780902639165365, 1450), ('SHAFTESBURY MEDICAL CTR.', 2.8991880742491705, 2126), ('THE RICHMOND HILL PRACTICE', 2.85280835225292, 1729), ('DGS OOH (INTEGRATED CARE 24 LTD)', 2.7983127436197703, 325), ('THE LAKESIDE PRACTICE', 2.7850580931805404, 1554), ('DEWSBURY MSK SERVICE', 2.7745661142711002, 3), ('BRISDOC HEALTHCARE SERVICES OOH', 2.723659563372342, 74), ('HALLIWELL SURGERY 1', 2.678256242758091, 1124), ('THE ROYTON & CROMPTON FAMILY PRACTICE', 2.6618484685948243, 2054), ('PRACTICE 3  MEDICAL CENTRE  BRIDLINGTON', 2.652303090532112, 1936), ('LCWUCC - IUC NCL', 2.595722179935655, 443), ('THE CREST FAMILY PRACTICE', 2.4988492604750943, 1294), ('DR MOKASHI', 2.4872173488969644, 1341), ('PERKINS PRACTICE', 2.474243799075293, 899), ('DARLASTON HEALTH CENTRE', 2.4496428330996367, 996), (\"DR MA SIMS' PRACTICE\", 2.4309510122755604, 1857), ('1/LOWER BROUGHTON MEDICAL PRACTICE', 2.4231560912317156, 1044), ('CORNWALLIS PLAZA SURGERY', 2.4199093225127037, 2326), ('FAIRMORE MEDICAL PRACTICE', 2.372441338492957, 1288), ('LAWLEY MEDICAL PRACTICE', 2.3645825391738007, 1409), (\"PEEL GP'S\", 2.345641501084622, 1557), ('EASTLANDS MEDICAL CENTRE', 2.3230485063291466, 1369), ('MAGHULL HEALTH CENTRE (DR SAPRE)', 2.3168420912562087, 1322), ('INTEGRATED CARE 24 LIMITED OOH', 2.313669433658373, 511), ('IC24 LTD (HWLH OOH)', 2.297074430930294, 216), ('CHADWICK PRACTICE', 2.290291691028607, 1568), ('WILLOW BANK SURGERY', 2.284247125557156, 1934), ('C&WPT OOH SERVICE', 2.273421069837655, 341), ('THE MERRYWOOD PRACTICE', 2.2602612741094434, 1234), ('LEYLAND SURGERY', 2.2560788720197227, 1213), ('WALKDEN MEDICAL PRACTICE', 2.246395094348847, 1577), ('RADCLIFFE MEDICAL PRACTICE', 2.238066209002983, 1553), ('RIBBLESDALE GP-DR SUBBIAH', 2.198248907972802, 1100), ('THE MAZHARI & KHAN PRACTICE', 2.1956746320322487, 912), ('JAMES ALEXANDER FAMILY PRACTICE', 2.1893766946111715, 1634), ('B&H INTERMEDIATE CARE SERVICE', 2.1890666499277667, 456), ('HARDEN SURGERY', 2.152547430238374, 1228), ('THE GATEWAY MEDICAL PRACTICE', 2.1520641346076577, 1349), ('QUAYSIDE MEDICAL PRACTICE', 2.151508280605607, 1422), ('FISHPONDS FAMILY PRACTICE', 2.0792092877784474, 1632), ('HASTINGS AND ROTHER OOH', 2.078858201573084, 291), (\"ST MARY'S SURGERY\", 2.044901866222211, 981), ('DRS CLOAK  CHOI AND MILLIGAN', 2.044082750596381, 1661), ('THE THORNTON PRACTICE', 1.9915642762571337, 1970), ('IC24 LTD (EAST SURREY OOH)', 1.9550613103176373, 194), ('CORNISHWAY GROUP PRACTICE', 1.9512918247018656, 1506), ('PREMIER HEALTH TEAM', 1.937931370947089, 876), ('CONCORD MEDICAL PRACTICE', 1.925308881273335, 1386), ('COULBY MEDICAL PRACTICE', 1.919457444638258, 1585), ('PARKSIDE MEDICAL CENTRE', 1.9143777559258415, 1314), ('THE DISCOVERY PRACTICE', 1.9021514653848708, 1268), ('ANCORA MEDICAL PRACTICE', 1.881515873122155, 2347), ('DARWEN HEALTHLINK', 1.8771229548535704, 2019), ('ROOLEY LANE MED. CENTRE', 1.8620670729731688, 1522), ('JALAL PRACTICE', 1.8526341043113717, 885), ('GREAT HOMER STREET MEDICAL CENTRE', 1.8017358680623603, 1062), ('THE CRESCENT SURGERY', 1.7981624968168801, 1734), ('BROOKVALE PRACTICE', 1.796309950118724, 1484), ('NORTHPOINT', 1.791921652617503, 1137), ('LEIGH NHS WIC', 1.7778364333949126, 162), ('DR SP SINGH AND PARTNERS', 1.766175319780631, 1840), ('BELGRAVE SURGERY', 1.7619383226319991, 1291), ('THE PARKS MEDICAL PRACTICE', 1.7572804146410668, 1466), ('THE ROSS PRACTICE', 1.716359708431743, 1648), ('THOMAS WALKER', 1.6949011707903539, 1377), ('OAKFIELD MEDICAL PRACTICE', 1.6912044353921025, 1055), (\"DR DP CHARLES' PRACTICE\", 1.6891933985903518, 1353), ('BOWLING HALL MED PRACTICE', 1.6885690432193319, 1352), ('NORTHGATE VILLAGE SURGERY', 1.6838489125165406, 1304)]\n"
     ]
    }
   ],
   "source": [
    "print(anomalies)"
   ]
  },
  {
   "cell_type": "code",
   "execution_count": null,
   "metadata": {},
   "outputs": [],
   "source": [
    "#unique_practices = ...\n",
    "#anomalies = [(\"NATIONAL ENHANCED SERVICE\", 11.6958178629, 7)] * 100"
   ]
  },
  {
   "cell_type": "code",
   "execution_count": null,
   "metadata": {},
   "outputs": [],
   "source": [
    "#results.head()"
   ]
  },
  {
   "cell_type": "code",
   "execution_count": 165,
   "metadata": {},
   "outputs": [
    {
     "name": "stdout",
     "output_type": "stream",
     "text": [
      "==================\n",
      "Your score:  0.9900000000000007\n",
      "==================\n"
     ]
    }
   ],
   "source": [
    "grader.score.dw__script_anomalies(anomalies)"
   ]
  },
  {
   "cell_type": "markdown",
   "metadata": {},
   "source": [
    "## Question 5: script_growth\n",
    "\n",
    "Another way to identify anomalies is by comparing current data to historical data. In the case of identifying sites of drug abuse, we might compare a practice's current rate of opioid prescription to their rate 5 or 10 years ago. Unless the nature of the practice has changed, the profile of drugs they prescribe should be relatively stable. We might also want to identify trends through time for business reasons, identifying drugs that are gaining market share. That's what we'll do in this question.\n",
    "\n",
    "We'll load in beneficiary data from 6 months earlier, June 2016, and calculate the percent growth in prescription rate from June 2016 to January 2017 for each `bnf_name`. We'll return the 50 items with largest growth and the 50 items with the largest shrinkage (i.e. negative percent growth) as a list of tuples sorted by growth rate in descending order in the format `(script_name, growth_rate, raw_2016_count)`. You'll notice that many of the 50 fastest growing items have low counts of prescriptions in 2016. Filter out any items that were prescribed less than 50 times."
   ]
  },
  {
   "cell_type": "code",
   "execution_count": 52,
   "metadata": {},
   "outputs": [],
   "source": [
    "scripts16 = pd.read_csv('./dw-data/201606scripts_sample.csv.gz',compression='gzip')"
   ]
  },
  {
   "cell_type": "code",
   "execution_count": 53,
   "metadata": {},
   "outputs": [
    {
     "data": {
      "text/html": [
       "<div>\n",
       "<style scoped>\n",
       "    .dataframe tbody tr th:only-of-type {\n",
       "        vertical-align: middle;\n",
       "    }\n",
       "\n",
       "    .dataframe tbody tr th {\n",
       "        vertical-align: top;\n",
       "    }\n",
       "\n",
       "    .dataframe thead th {\n",
       "        text-align: right;\n",
       "    }\n",
       "</style>\n",
       "<table border=\"1\" class=\"dataframe\">\n",
       "  <thead>\n",
       "    <tr style=\"text-align: right;\">\n",
       "      <th></th>\n",
       "      <th>practice</th>\n",
       "      <th>bnf_code</th>\n",
       "      <th>bnf_name</th>\n",
       "      <th>items</th>\n",
       "      <th>nic</th>\n",
       "      <th>act_cost</th>\n",
       "      <th>quantity</th>\n",
       "    </tr>\n",
       "  </thead>\n",
       "  <tbody>\n",
       "    <tr>\n",
       "      <th>0</th>\n",
       "      <td>N85638</td>\n",
       "      <td>0301011R0</td>\n",
       "      <td>Salamol_Inha 100mcg (200 D) CFF (Teva)</td>\n",
       "      <td>2</td>\n",
       "      <td>2.92</td>\n",
       "      <td>2.73</td>\n",
       "      <td>2</td>\n",
       "    </tr>\n",
       "    <tr>\n",
       "      <th>1</th>\n",
       "      <td>N85638</td>\n",
       "      <td>0301011R0</td>\n",
       "      <td>Easyhaler_Salbutamol Sulf 200mcg (200D)</td>\n",
       "      <td>1</td>\n",
       "      <td>6.63</td>\n",
       "      <td>6.15</td>\n",
       "      <td>1</td>\n",
       "    </tr>\n",
       "    <tr>\n",
       "      <th>2</th>\n",
       "      <td>N85638</td>\n",
       "      <td>0301020I0</td>\n",
       "      <td>Ipratrop Brom_Inh Soln 500mcg/2ml Ud</td>\n",
       "      <td>1</td>\n",
       "      <td>1.77</td>\n",
       "      <td>1.75</td>\n",
       "      <td>12</td>\n",
       "    </tr>\n",
       "    <tr>\n",
       "      <th>3</th>\n",
       "      <td>N85638</td>\n",
       "      <td>0301020I0</td>\n",
       "      <td>Ipratrop Brom_Inh Soln 250mcg/1ml Ud</td>\n",
       "      <td>1</td>\n",
       "      <td>4.47</td>\n",
       "      <td>4.15</td>\n",
       "      <td>20</td>\n",
       "    </tr>\n",
       "    <tr>\n",
       "      <th>4</th>\n",
       "      <td>N85638</td>\n",
       "      <td>0302000C0</td>\n",
       "      <td>Clenil Modulite_Inha 50mcg (200D)</td>\n",
       "      <td>1</td>\n",
       "      <td>3.70</td>\n",
       "      <td>3.44</td>\n",
       "      <td>1</td>\n",
       "    </tr>\n",
       "  </tbody>\n",
       "</table>\n",
       "</div>"
      ],
      "text/plain": [
       "  practice   bnf_code                                 bnf_name  items   nic  \\\n",
       "0   N85638  0301011R0   Salamol_Inha 100mcg (200 D) CFF (Teva)      2  2.92   \n",
       "1   N85638  0301011R0  Easyhaler_Salbutamol Sulf 200mcg (200D)      1  6.63   \n",
       "2   N85638  0301020I0     Ipratrop Brom_Inh Soln 500mcg/2ml Ud      1  1.77   \n",
       "3   N85638  0301020I0     Ipratrop Brom_Inh Soln 250mcg/1ml Ud      1  4.47   \n",
       "4   N85638  0302000C0        Clenil Modulite_Inha 50mcg (200D)      1  3.70   \n",
       "\n",
       "   act_cost  quantity  \n",
       "0      2.73         2  \n",
       "1      6.15         1  \n",
       "2      1.75        12  \n",
       "3      4.15        20  \n",
       "4      3.44         1  "
      ]
     },
     "execution_count": 53,
     "metadata": {},
     "output_type": "execute_result"
    }
   ],
   "source": [
    "scripts16.head()"
   ]
  },
  {
   "cell_type": "code",
   "execution_count": 54,
   "metadata": {},
   "outputs": [],
   "source": [
    "q51=scripts16.groupby('bnf_name')['items'].count().reset_index()"
   ]
  },
  {
   "cell_type": "code",
   "execution_count": 55,
   "metadata": {},
   "outputs": [],
   "source": [
    "q52=scripts.groupby('bnf_name')['items'].count().reset_index()"
   ]
  },
  {
   "cell_type": "code",
   "execution_count": 56,
   "metadata": {},
   "outputs": [
    {
     "data": {
      "text/html": [
       "<div>\n",
       "<style scoped>\n",
       "    .dataframe tbody tr th:only-of-type {\n",
       "        vertical-align: middle;\n",
       "    }\n",
       "\n",
       "    .dataframe tbody tr th {\n",
       "        vertical-align: top;\n",
       "    }\n",
       "\n",
       "    .dataframe thead th {\n",
       "        text-align: right;\n",
       "    }\n",
       "</style>\n",
       "<table border=\"1\" class=\"dataframe\">\n",
       "  <thead>\n",
       "    <tr style=\"text-align: right;\">\n",
       "      <th></th>\n",
       "      <th>bnf_name</th>\n",
       "      <th>items</th>\n",
       "    </tr>\n",
       "  </thead>\n",
       "  <tbody>\n",
       "    <tr>\n",
       "      <th>0</th>\n",
       "      <td>365 Film 15cm x 20cm VP Adh Film Dress</td>\n",
       "      <td>1</td>\n",
       "    </tr>\n",
       "    <tr>\n",
       "      <th>1</th>\n",
       "      <td>365 Film 4cm x 5cm VP Adh Film Dress</td>\n",
       "      <td>1</td>\n",
       "    </tr>\n",
       "    <tr>\n",
       "      <th>2</th>\n",
       "      <td>365 Non Adherent 10cm x 10cm Pfa Plas Fa</td>\n",
       "      <td>3</td>\n",
       "    </tr>\n",
       "    <tr>\n",
       "      <th>3</th>\n",
       "      <td>365 Non Woven Island 10cm x 10cm Adh Dre</td>\n",
       "      <td>1</td>\n",
       "    </tr>\n",
       "    <tr>\n",
       "      <th>4</th>\n",
       "      <td>365 Non Woven Island 10cm x 15cm Adh Dre</td>\n",
       "      <td>1</td>\n",
       "    </tr>\n",
       "  </tbody>\n",
       "</table>\n",
       "</div>"
      ],
      "text/plain": [
       "                                   bnf_name  items\n",
       "0    365 Film 15cm x 20cm VP Adh Film Dress      1\n",
       "1      365 Film 4cm x 5cm VP Adh Film Dress      1\n",
       "2  365 Non Adherent 10cm x 10cm Pfa Plas Fa      3\n",
       "3  365 Non Woven Island 10cm x 10cm Adh Dre      1\n",
       "4  365 Non Woven Island 10cm x 15cm Adh Dre      1"
      ]
     },
     "execution_count": 56,
     "metadata": {},
     "output_type": "execute_result"
    }
   ],
   "source": [
    "q51.head()"
   ]
  },
  {
   "cell_type": "code",
   "execution_count": 57,
   "metadata": {},
   "outputs": [
    {
     "data": {
      "text/html": [
       "<div>\n",
       "<style scoped>\n",
       "    .dataframe tbody tr th:only-of-type {\n",
       "        vertical-align: middle;\n",
       "    }\n",
       "\n",
       "    .dataframe tbody tr th {\n",
       "        vertical-align: top;\n",
       "    }\n",
       "\n",
       "    .dataframe thead th {\n",
       "        text-align: right;\n",
       "    }\n",
       "</style>\n",
       "<table border=\"1\" class=\"dataframe\">\n",
       "  <thead>\n",
       "    <tr style=\"text-align: right;\">\n",
       "      <th></th>\n",
       "      <th>bnf_name</th>\n",
       "      <th>items</th>\n",
       "    </tr>\n",
       "  </thead>\n",
       "  <tbody>\n",
       "    <tr>\n",
       "      <th>0</th>\n",
       "      <td>365 Film 10cm x 12cm VP Adh Film Dress</td>\n",
       "      <td>1</td>\n",
       "    </tr>\n",
       "    <tr>\n",
       "      <th>1</th>\n",
       "      <td>365 Non Adherent 10cm x 10cm Pfa Plas Fa</td>\n",
       "      <td>3</td>\n",
       "    </tr>\n",
       "    <tr>\n",
       "      <th>2</th>\n",
       "      <td>365 Non Adherent 10cm x 20cm Pfa Plas Fa</td>\n",
       "      <td>1</td>\n",
       "    </tr>\n",
       "    <tr>\n",
       "      <th>3</th>\n",
       "      <td>365 Non Woven Island 8cm x 10cm Adh Dres</td>\n",
       "      <td>1</td>\n",
       "    </tr>\n",
       "    <tr>\n",
       "      <th>4</th>\n",
       "      <td>365 Transpt Island 5cm x 7.2cm VP Adh Fi</td>\n",
       "      <td>2</td>\n",
       "    </tr>\n",
       "  </tbody>\n",
       "</table>\n",
       "</div>"
      ],
      "text/plain": [
       "                                   bnf_name  items\n",
       "0    365 Film 10cm x 12cm VP Adh Film Dress      1\n",
       "1  365 Non Adherent 10cm x 10cm Pfa Plas Fa      3\n",
       "2  365 Non Adherent 10cm x 20cm Pfa Plas Fa      1\n",
       "3  365 Non Woven Island 8cm x 10cm Adh Dres      1\n",
       "4  365 Transpt Island 5cm x 7.2cm VP Adh Fi      2"
      ]
     },
     "execution_count": 57,
     "metadata": {},
     "output_type": "execute_result"
    }
   ],
   "source": [
    "q52.head()"
   ]
  },
  {
   "cell_type": "code",
   "execution_count": 58,
   "metadata": {},
   "outputs": [],
   "source": [
    "q51=q51.merge(q52,on='bnf_name',suffixes=['_16','_17'])"
   ]
  },
  {
   "cell_type": "code",
   "execution_count": 59,
   "metadata": {},
   "outputs": [
    {
     "data": {
      "text/html": [
       "<div>\n",
       "<style scoped>\n",
       "    .dataframe tbody tr th:only-of-type {\n",
       "        vertical-align: middle;\n",
       "    }\n",
       "\n",
       "    .dataframe tbody tr th {\n",
       "        vertical-align: top;\n",
       "    }\n",
       "\n",
       "    .dataframe thead th {\n",
       "        text-align: right;\n",
       "    }\n",
       "</style>\n",
       "<table border=\"1\" class=\"dataframe\">\n",
       "  <thead>\n",
       "    <tr style=\"text-align: right;\">\n",
       "      <th></th>\n",
       "      <th>bnf_name</th>\n",
       "      <th>items_16</th>\n",
       "      <th>items_17</th>\n",
       "    </tr>\n",
       "  </thead>\n",
       "  <tbody>\n",
       "    <tr>\n",
       "      <th>0</th>\n",
       "      <td>365 Non Adherent 10cm x 10cm Pfa Plas Fa</td>\n",
       "      <td>3</td>\n",
       "      <td>3</td>\n",
       "    </tr>\n",
       "    <tr>\n",
       "      <th>1</th>\n",
       "      <td>365 Transpt Island 8.5cm x 15.5cm VP Adh</td>\n",
       "      <td>1</td>\n",
       "      <td>1</td>\n",
       "    </tr>\n",
       "    <tr>\n",
       "      <th>2</th>\n",
       "      <td>3m Health Care_Cavilon Durable Barrier C</td>\n",
       "      <td>825</td>\n",
       "      <td>816</td>\n",
       "    </tr>\n",
       "    <tr>\n",
       "      <th>3</th>\n",
       "      <td>3m Health Care_Cavilon No Sting 1ml Barr</td>\n",
       "      <td>231</td>\n",
       "      <td>223</td>\n",
       "    </tr>\n",
       "    <tr>\n",
       "      <th>4</th>\n",
       "      <td>3m Health Care_Cavilon No Sting 3ml Barr</td>\n",
       "      <td>105</td>\n",
       "      <td>94</td>\n",
       "    </tr>\n",
       "  </tbody>\n",
       "</table>\n",
       "</div>"
      ],
      "text/plain": [
       "                                   bnf_name  items_16  items_17\n",
       "0  365 Non Adherent 10cm x 10cm Pfa Plas Fa         3         3\n",
       "1  365 Transpt Island 8.5cm x 15.5cm VP Adh         1         1\n",
       "2  3m Health Care_Cavilon Durable Barrier C       825       816\n",
       "3  3m Health Care_Cavilon No Sting 1ml Barr       231       223\n",
       "4  3m Health Care_Cavilon No Sting 3ml Barr       105        94"
      ]
     },
     "execution_count": 59,
     "metadata": {},
     "output_type": "execute_result"
    }
   ],
   "source": [
    "q51.head()"
   ]
  },
  {
   "cell_type": "code",
   "execution_count": 60,
   "metadata": {},
   "outputs": [],
   "source": [
    "q51['growth_rate']=(q51['items_17']-q51['items_16'])/q51['items_16']"
   ]
  },
  {
   "cell_type": "code",
   "execution_count": 61,
   "metadata": {},
   "outputs": [],
   "source": [
    "q51=q51[q51['items_16']>50]"
   ]
  },
  {
   "cell_type": "code",
   "execution_count": 62,
   "metadata": {},
   "outputs": [],
   "source": [
    "q51=q51.sort_values('growth_rate',ascending=False)"
   ]
  },
  {
   "cell_type": "code",
   "execution_count": 63,
   "metadata": {},
   "outputs": [],
   "source": [
    "q53=q51.drop(q51.index[50:len(q51)-50]).reset_index()"
   ]
  },
  {
   "cell_type": "code",
   "execution_count": 64,
   "metadata": {},
   "outputs": [],
   "source": [
    "q53.drop('index',axis=1,inplace=True)"
   ]
  },
  {
   "cell_type": "code",
   "execution_count": 65,
   "metadata": {},
   "outputs": [
    {
     "data": {
      "text/html": [
       "<div>\n",
       "<style scoped>\n",
       "    .dataframe tbody tr th:only-of-type {\n",
       "        vertical-align: middle;\n",
       "    }\n",
       "\n",
       "    .dataframe tbody tr th {\n",
       "        vertical-align: top;\n",
       "    }\n",
       "\n",
       "    .dataframe thead th {\n",
       "        text-align: right;\n",
       "    }\n",
       "</style>\n",
       "<table border=\"1\" class=\"dataframe\">\n",
       "  <thead>\n",
       "    <tr style=\"text-align: right;\">\n",
       "      <th></th>\n",
       "      <th>bnf_name</th>\n",
       "      <th>items_16</th>\n",
       "      <th>items_17</th>\n",
       "      <th>growth_rate</th>\n",
       "    </tr>\n",
       "  </thead>\n",
       "  <tbody>\n",
       "    <tr>\n",
       "      <th>95</th>\n",
       "      <td>Hydroxyzine HCl_Oral Soln 10mg/5ml</td>\n",
       "      <td>94</td>\n",
       "      <td>8</td>\n",
       "      <td>-0.914894</td>\n",
       "    </tr>\n",
       "    <tr>\n",
       "      <th>96</th>\n",
       "      <td>Ovysmen_Tab</td>\n",
       "      <td>67</td>\n",
       "      <td>5</td>\n",
       "      <td>-0.925373</td>\n",
       "    </tr>\n",
       "    <tr>\n",
       "      <th>97</th>\n",
       "      <td>Climaval_Tab 1mg</td>\n",
       "      <td>136</td>\n",
       "      <td>10</td>\n",
       "      <td>-0.926471</td>\n",
       "    </tr>\n",
       "    <tr>\n",
       "      <th>98</th>\n",
       "      <td>Climesse_Tab</td>\n",
       "      <td>69</td>\n",
       "      <td>4</td>\n",
       "      <td>-0.942029</td>\n",
       "    </tr>\n",
       "    <tr>\n",
       "      <th>99</th>\n",
       "      <td>Polyalc_Eye Dps 1.4%</td>\n",
       "      <td>272</td>\n",
       "      <td>1</td>\n",
       "      <td>-0.996324</td>\n",
       "    </tr>\n",
       "  </tbody>\n",
       "</table>\n",
       "</div>"
      ],
      "text/plain": [
       "                              bnf_name  items_16  items_17  growth_rate\n",
       "95  Hydroxyzine HCl_Oral Soln 10mg/5ml        94         8    -0.914894\n",
       "96                         Ovysmen_Tab        67         5    -0.925373\n",
       "97                    Climaval_Tab 1mg       136        10    -0.926471\n",
       "98                        Climesse_Tab        69         4    -0.942029\n",
       "99                Polyalc_Eye Dps 1.4%       272         1    -0.996324"
      ]
     },
     "execution_count": 65,
     "metadata": {},
     "output_type": "execute_result"
    }
   ],
   "source": [
    "q53.tail()"
   ]
  },
  {
   "cell_type": "code",
   "execution_count": 66,
   "metadata": {},
   "outputs": [],
   "source": [
    "script_growth=[(row[1],row[4],row[2]) for row in q53.itertuples()]"
   ]
  },
  {
   "cell_type": "code",
   "execution_count": 67,
   "metadata": {},
   "outputs": [
    {
     "data": {
      "text/plain": [
       "[('Butec_Transdermal Patch 5mcg/hr', 3.467741935483871, 62),\n",
       " ('Butec_Transdermal Patch 10mcg/hr', 3.0, 69),\n",
       " ('Fostair NEXThaler_Inh 200mcg/6mcg (120D)', 1.430232558139535, 86),\n",
       " ('Pneumococcal_Vac 0.5ml Vl (23 Valent)', 1.2694300518134716, 193),\n",
       " ('Spiolto Respimat_Inha2.5/2.5mcg(60D)+Dev', 1.2692307692307692, 52),\n",
       " ('Trulicity_Inj 1.5mg/0.5ml Pf Pen', 1.1851851851851851, 54),\n",
       " ('CosmoCol_Paed Oral Pdr Sach 6.9g', 1.1774193548387097, 62),\n",
       " ('Dulaglutide_Inj 1.5mg/0.5ml Pf Dev', 0.9634146341463414, 82),\n",
       " ('ViATIM_Vac D/Chamber 160u/25mcg 1ml Pfs', 0.912, 125),\n",
       " ('Empagliflozin_Tab 25mg', 0.896, 125),\n",
       " ('CareSens Lancets 0.31mm/30 Gauge', 0.8955223880597015, 67),\n",
       " ('Fostair_Inh 200mcg/6mcg (120D) CFF', 0.8616600790513834, 253),\n",
       " ('Orbis Nor Saline Sod Chlor 0.9% Nsl Dps', 0.8588235294117647, 85),\n",
       " ('Umeclidinium Brom_Inh 65mcg (30D)', 0.8275862068965517, 87),\n",
       " ('Ultibro Breezhaler_Pdr Inh Cap + Dev', 0.8016528925619835, 121),\n",
       " ('Medihoney_Barrier Crm', 0.7840909090909091, 88),\n",
       " ('Fluoxetine HCl_Oral Soln 20mg/5ml S/F', 0.7808219178082192, 73),\n",
       " ('TEE2 (Reagent)_Strips', 0.7777777777777778, 81),\n",
       " ('Zaluron XL_Tab 400mg', 0.7586206896551724, 58),\n",
       " ('Laxido_Paed Plain Oral Pdr Sach 6.9g', 0.7586206896551724, 174),\n",
       " ('Prednisolone_Oral Soln 5mg/5ml Ud', 0.726027397260274, 73),\n",
       " ('Buprenorphine_Patch 15mcg/hr (7day)', 0.7155963302752294, 109),\n",
       " ('Coloplast_SenSura Mio Maxi Drnbl Bag S/C', 0.7037037037037037, 81),\n",
       " ('Octenisan_Antimicrobial Wsh Lot', 0.7027027027027027, 74),\n",
       " ('Duaklir Genuair_340mcg/12mcg (60D)', 0.6710526315789473, 152),\n",
       " ('Sod Chlor_Inh Soln 0.9% 2.5ml Ud Amp', 0.6419753086419753, 162),\n",
       " ('Coloplast_SenSura Mio Maxi Drnbl Bag L/C', 0.6274509803921569, 51),\n",
       " ('Flutiform_Inha 50/5mcg (120 D)', 0.625, 88),\n",
       " ('Ins Degludec_100u/ml 3ml Pf Pen', 0.6166666666666667, 60),\n",
       " ('CareSens Lancets 0.36mm/28 Gauge', 0.6111111111111112, 90),\n",
       " ('Epimax Crm 500g', 0.61, 100),\n",
       " ('Evacal D3_Tab Chble 400u/1.5g', 0.6046511627906976, 86),\n",
       " ('Shortec_Cap 20mg', 0.6029411764705882, 68),\n",
       " ('Ciprofloxacin_Gran For Susp 250mg/5ml', 0.5921052631578947, 76),\n",
       " ('AgaMatrix Ultra-Thin Lancets 0.35mm/28 G', 0.5660377358490566, 53),\n",
       " ('Zemtard 120 XL_Cap 120mg', 0.5636363636363636, 55),\n",
       " ('Nutramigen 2 + LGG_Pdr', 0.5604395604395604, 91),\n",
       " ('Toujeo_300u/ml 1.5ml Pf SoloStar Pen', 0.5408805031446541, 159),\n",
       " ('Ins Tresiba_FlexTouch 100u/ml 3ml Pf Pen', 0.5405405405405406, 148),\n",
       " ('Longtec_Tab 30mg M/R', 0.5370370370370371, 108),\n",
       " ('Adalat_Cap 5mg', 0.5365853658536586, 82),\n",
       " ('Dexameth_Oral Soln 2mg/5ml S/F', 0.5294117647058824, 68),\n",
       " ('Haloperidol_Inj 5mg/ml 1ml Amp', 0.5288461538461539, 104),\n",
       " ('Lyclear_Dermal Crm 5%', 0.5211267605633803, 71),\n",
       " ('Valupak_Multivit & Mineral Tab OAD', 0.5098039215686274, 51),\n",
       " ('Coloplast_Sensura Mio Maxi Clsd Bag + Fl', 0.5056179775280899, 89),\n",
       " ('Medikinet XL_Cap 10mg', 0.48484848484848486, 99),\n",
       " ('Dovobet_Gel Applic', 0.48148148148148145, 54),\n",
       " ('Incruse Ellipta_Inh 55mcg (30D)', 0.4807692307692308, 208),\n",
       " ('Longtec_Tab 60mg M/R', 0.47619047619047616, 63),\n",
       " ('Oxycodone HCl_Tab 20mg M/R', -0.4318181818181818, 264),\n",
       " ('Cardura XL_Tab 4mg', -0.43478260869565216, 69),\n",
       " ('Oxycodone HCl_Tab 80mg M/R', -0.4358974358974359, 78),\n",
       " ('Verapamil HCl_Cap 120mg M/R', -0.43790849673202614, 153),\n",
       " ('Topamax_Tab 100mg', -0.45161290322580644, 62),\n",
       " ('Opticrom_Allergy Eye Dps 2%', -0.4523809523809524, 126),\n",
       " ('Optilast_Eye Dps 0.05%', -0.45454545454545453, 55),\n",
       " ('Actonel_Once a Week Tab 35mg', -0.4576271186440678, 59),\n",
       " ('Premique_Tab 0.625mg/5mg', -0.47039473684210525, 304),\n",
       " ('Sunsense_Daily Face Crm Spf 50+', -0.48344370860927155, 151),\n",
       " ('Hydrocort/Crotamiton_Crm 0.25%/10%', -0.48936170212765956, 141),\n",
       " ('Azelastine HCl_Aq Eye Dps 0.05%', -0.5036231884057971, 276),\n",
       " ('Opticrom_Eye Dps 2% (Aq)', -0.5073891625615764, 203),\n",
       " ('Metoprolol Tart_Tab 200mg M/R', -0.509090909090909, 55),\n",
       " ('Rapitil_Eye Dps 2%', -0.5096774193548387, 155),\n",
       " ('Desloratadine_Oral Soln 2.5mg/5ml S/F', -0.5147058823529411, 136),\n",
       " ('Erythromycin_Ethylsuc Tab 500mg', -0.5154639175257731, 97),\n",
       " ('Aquacel Foam Adhesive 8cm x 8cm Wound Dr', -0.5294117647058824, 68),\n",
       " ('Zirtek_Allergy Tab 10mg', -0.5303030303030303, 66),\n",
       " ('Antaz Sulf/Xylomet_Eye Dps 0.5%/0.05%', -0.5454545454545454, 66),\n",
       " ('Vital 1.5kcal_Liq (Vanilla)', -0.5466666666666666, 75),\n",
       " ('Oxybutynin HCl_Oral Soln 2.5mg/5ml S/F', -0.5573770491803278, 61),\n",
       " ('Prazosin HCl_Tab 500mcg', -0.5581395348837209, 86),\n",
       " ('Artificial Saliva_Spy 50ml', -0.5586854460093896, 213),\n",
       " ('Sunsense_Ultra Lot Spf 50+', -0.5652173913043478, 368),\n",
       " ('Telfast 120_Tab 120mg', -0.5698924731182796, 93),\n",
       " ('Otrivine-Antistin_Eye Dps', -0.572463768115942, 138),\n",
       " ('Fexofenadine HCl_Tab 30mg', -0.5959595959595959, 297),\n",
       " ('Mag Trisil_Mix', -0.6119402985074627, 67),\n",
       " ('Glibenclamide_Tab 5mg', -0.6164383561643836, 146),\n",
       " ('Co-Danthrusate_Cap 50mg/60mg', -0.6296296296296297, 81),\n",
       " ('Ketotifen Fumar_Eye Dps 250mcg/ml', -0.6842105263157895, 57),\n",
       " ('Uvistat_Sun Crm Spf 50', -0.6917293233082706, 133),\n",
       " ('Haelan_Tape 7.5cm x 50cm', -0.7130434782608696, 115),\n",
       " ('Haelan_Tape 7.5cm x 20cm', -0.72, 100),\n",
       " ('Beconase_Hayfever Nsl Spy 50mcg (180 D)', -0.7384615384615385, 65),\n",
       " ('Uvistat_Sun Crm Spf 30', -0.7647058823529411, 68),\n",
       " ('Deep Freeze_Cold Gel 2%', -0.7758620689655172, 58),\n",
       " ('Adizem-SR_Tab 120mg', -0.8269230769230769, 52),\n",
       " ('Anugesic HC_Crm', -0.8541666666666666, 96),\n",
       " ('Sunsense_Sunsensitive Crm SPF 50+', -0.8562091503267973, 153),\n",
       " ('Hepatyrix_Vac 1440u/25mcg/ml 1ml Pfs', -0.875, 216),\n",
       " ('Climagest_Tab 2mg', -0.8939393939393939, 66),\n",
       " ('Climaval_Tab 2mg', -0.9015151515151515, 132),\n",
       " ('Orphenadrine HCl_Tab 50mg', -0.9117647058823529, 102),\n",
       " ('Hydroxyzine HCl_Oral Soln 10mg/5ml', -0.9148936170212766, 94),\n",
       " ('Ovysmen_Tab', -0.9253731343283582, 67),\n",
       " ('Climaval_Tab 1mg', -0.9264705882352942, 136),\n",
       " ('Climesse_Tab', -0.9420289855072463, 69),\n",
       " ('Polyalc_Eye Dps 1.4%', -0.9963235294117647, 272)]"
      ]
     },
     "execution_count": 67,
     "metadata": {},
     "output_type": "execute_result"
    }
   ],
   "source": [
    "script_growth[:]"
   ]
  },
  {
   "cell_type": "code",
   "execution_count": 68,
   "metadata": {},
   "outputs": [],
   "source": [
    "#script_growth = [(\"Butec_Transdermal Patch 5mcg\\/hr\", 3.4677419355, 62.0)] * 100\n",
    "#script_growth = [('Butec_Transdermal Patch 10mcg/hr', 3.0, 69)] * 100"
   ]
  },
  {
   "cell_type": "code",
   "execution_count": 154,
   "metadata": {},
   "outputs": [
    {
     "name": "stdout",
     "output_type": "stream",
     "text": [
      "==================\n",
      "Your score:  0.9900000000000007\n",
      "==================\n"
     ]
    }
   ],
   "source": [
    "grader.score.dw__script_growth(script_growth)"
   ]
  },
  {
   "cell_type": "markdown",
   "metadata": {},
   "source": [
    "## Question 6: rare_scripts\n",
    "\n",
    "Does a practice's prescription costs originate from routine care or from reliance on rarely prescribed treatments? Commonplace treatments can carry lower costs than rare treatments because of efficiencies in large-scale production. While some specialist practices can't help but avoid prescribing rare medicines because there are no alternatives, some practices may be prescribing a unnecessary amount of brand-name products when generics are available. Let's identify practices whose costs disproportionately originate from rarely prescribed items.\n",
    "\n",
    "First we have to identify which `'bnf_code'` are rare. To do this, find the probability $p$ of a prescription having a particular `'bnf_code'` if the `'bnf_code'` was randomly chosen from the unique options in the beneficiary data. We will call a `'bnf_code'` rare if it is prescribed at a rate less than $0.1p$."
   ]
  },
  {
   "cell_type": "code",
   "execution_count": null,
   "metadata": {},
   "outputs": [],
   "source": [
    "p = ...\n",
    "rates = ...\n",
    "rare_codes = ...\n",
    "scripts['rare'] = ..."
   ]
  },
  {
   "cell_type": "markdown",
   "metadata": {},
   "source": [
    "Now for each practice, calculate the proportion of costs that originate from prescription of rare treatments (i.e. rare `'bnf_code'`). Use the `'act_cost'` field for this calculation."
   ]
  },
  {
   "cell_type": "code",
   "execution_count": null,
   "metadata": {},
   "outputs": [],
   "source": [
    "rare_cost_prop = ..."
   ]
  },
  {
   "cell_type": "markdown",
   "metadata": {},
   "source": [
    "Now we will calculate a z-score for each practice based on this proportion.\n",
    "First take the difference of `rare_cost_prop` and the proportion of costs originating from rare treatments across all practices."
   ]
  },
  {
   "cell_type": "code",
   "execution_count": null,
   "metadata": {},
   "outputs": [],
   "source": [
    "relative_rare_cost_prop = ..."
   ]
  },
  {
   "cell_type": "markdown",
   "metadata": {},
   "source": [
    "Now we will estimate the standard errors (i.e. the denominator of the z-score) by simply taking the standard deviation of this difference."
   ]
  },
  {
   "cell_type": "code",
   "execution_count": null,
   "metadata": {},
   "outputs": [],
   "source": [
    "standard_errors = ..."
   ]
  },
  {
   "cell_type": "markdown",
   "metadata": {},
   "source": [
    "Finally compute the z-scores. Return the practices with the top 100 z-scores in the form `(post_code, practice_name, z-score)`. Note that some practice codes will correspond with multiple names. In this case, use the first match when sorting names alphabetically."
   ]
  },
  {
   "cell_type": "code",
   "execution_count": null,
   "metadata": {},
   "outputs": [],
   "source": [
    "rare_scores = ..."
   ]
  },
  {
   "cell_type": "code",
   "execution_count": 70,
   "metadata": {},
   "outputs": [],
   "source": [
    "#from office hours\n",
    "p = 1/scripts.bnf_code.nunique()\n",
    "\n",
    "rates = scripts['bnf_code'].value_counts() / len(scripts)\n",
    "\n",
    "mask = rates < .1 * p\n",
    "\n",
    "rare_codes = rates[mask].index.unique()\n",
    "\n",
    "scripts['rare'] = scripts['bnf_code'].isin(rare_codes)\n",
    "\n",
    "# rare script act_cost per practice/total act_cost per practice\n",
    "rare_cost_prop = (scripts[scripts['rare']].groupby('practice')['act_cost'].sum()/scripts.groupby('practice')['act_cost'].sum()).fillna(0)\n",
    "\n",
    "relative_rare_cost_prop = (rare_cost_prop\n",
    "                           - scripts[scripts['rare']]['act_cost'].sum()\n",
    "                           /scripts['act_cost'].sum())\n",
    "\n",
    "standard_error = relative_rare_cost_prop.std()\n",
    "\n",
    "rare_scores = relative_rare_cost_prop/standard_error\n",
    "\n",
    "unique_practices = (practices\n",
    "                   .sort_values('name')\n",
    "                   .groupby('code')\n",
    "                   .first()\n",
    "                   .reset_index())[['code', 'name']].rename(columns={'code':'practice'})\n",
    "\n",
    "unique_practices.set_index('practice', inplace=True)\n",
    "\n",
    "rare_scores = pd.concat([unique_practices, rare_scores], axis =1).sort_values(by='act_cost', ascending=False).head(100)\n",
    "\n",
    "rare_scripts = list(rare_scores.itertuples(name=None))"
   ]
  },
  {
   "cell_type": "code",
   "execution_count": 71,
   "metadata": {},
   "outputs": [],
   "source": [
    "rare_scripts = [(\"Y03472\", \"CONSULTANT DIABETES TEAM\", 16.2626871247)] * 100"
   ]
  },
  {
   "cell_type": "code",
   "execution_count": 73,
   "metadata": {},
   "outputs": [
    {
     "data": {
      "text/plain": [
       "[('Y03472', 'CONSULTANT DIABETES TEAM', 16.2626871247),\n",
       " ('Y03472', 'CONSULTANT DIABETES TEAM', 16.2626871247),\n",
       " ('Y03472', 'CONSULTANT DIABETES TEAM', 16.2626871247),\n",
       " ('Y03472', 'CONSULTANT DIABETES TEAM', 16.2626871247),\n",
       " ('Y03472', 'CONSULTANT DIABETES TEAM', 16.2626871247),\n",
       " ('Y03472', 'CONSULTANT DIABETES TEAM', 16.2626871247),\n",
       " ('Y03472', 'CONSULTANT DIABETES TEAM', 16.2626871247),\n",
       " ('Y03472', 'CONSULTANT DIABETES TEAM', 16.2626871247),\n",
       " ('Y03472', 'CONSULTANT DIABETES TEAM', 16.2626871247),\n",
       " ('Y03472', 'CONSULTANT DIABETES TEAM', 16.2626871247),\n",
       " ('Y03472', 'CONSULTANT DIABETES TEAM', 16.2626871247),\n",
       " ('Y03472', 'CONSULTANT DIABETES TEAM', 16.2626871247),\n",
       " ('Y03472', 'CONSULTANT DIABETES TEAM', 16.2626871247),\n",
       " ('Y03472', 'CONSULTANT DIABETES TEAM', 16.2626871247),\n",
       " ('Y03472', 'CONSULTANT DIABETES TEAM', 16.2626871247),\n",
       " ('Y03472', 'CONSULTANT DIABETES TEAM', 16.2626871247),\n",
       " ('Y03472', 'CONSULTANT DIABETES TEAM', 16.2626871247),\n",
       " ('Y03472', 'CONSULTANT DIABETES TEAM', 16.2626871247),\n",
       " ('Y03472', 'CONSULTANT DIABETES TEAM', 16.2626871247),\n",
       " ('Y03472', 'CONSULTANT DIABETES TEAM', 16.2626871247),\n",
       " ('Y03472', 'CONSULTANT DIABETES TEAM', 16.2626871247),\n",
       " ('Y03472', 'CONSULTANT DIABETES TEAM', 16.2626871247),\n",
       " ('Y03472', 'CONSULTANT DIABETES TEAM', 16.2626871247),\n",
       " ('Y03472', 'CONSULTANT DIABETES TEAM', 16.2626871247),\n",
       " ('Y03472', 'CONSULTANT DIABETES TEAM', 16.2626871247),\n",
       " ('Y03472', 'CONSULTANT DIABETES TEAM', 16.2626871247),\n",
       " ('Y03472', 'CONSULTANT DIABETES TEAM', 16.2626871247),\n",
       " ('Y03472', 'CONSULTANT DIABETES TEAM', 16.2626871247),\n",
       " ('Y03472', 'CONSULTANT DIABETES TEAM', 16.2626871247),\n",
       " ('Y03472', 'CONSULTANT DIABETES TEAM', 16.2626871247),\n",
       " ('Y03472', 'CONSULTANT DIABETES TEAM', 16.2626871247),\n",
       " ('Y03472', 'CONSULTANT DIABETES TEAM', 16.2626871247),\n",
       " ('Y03472', 'CONSULTANT DIABETES TEAM', 16.2626871247),\n",
       " ('Y03472', 'CONSULTANT DIABETES TEAM', 16.2626871247),\n",
       " ('Y03472', 'CONSULTANT DIABETES TEAM', 16.2626871247),\n",
       " ('Y03472', 'CONSULTANT DIABETES TEAM', 16.2626871247),\n",
       " ('Y03472', 'CONSULTANT DIABETES TEAM', 16.2626871247),\n",
       " ('Y03472', 'CONSULTANT DIABETES TEAM', 16.2626871247),\n",
       " ('Y03472', 'CONSULTANT DIABETES TEAM', 16.2626871247),\n",
       " ('Y03472', 'CONSULTANT DIABETES TEAM', 16.2626871247),\n",
       " ('Y03472', 'CONSULTANT DIABETES TEAM', 16.2626871247),\n",
       " ('Y03472', 'CONSULTANT DIABETES TEAM', 16.2626871247),\n",
       " ('Y03472', 'CONSULTANT DIABETES TEAM', 16.2626871247),\n",
       " ('Y03472', 'CONSULTANT DIABETES TEAM', 16.2626871247),\n",
       " ('Y03472', 'CONSULTANT DIABETES TEAM', 16.2626871247),\n",
       " ('Y03472', 'CONSULTANT DIABETES TEAM', 16.2626871247),\n",
       " ('Y03472', 'CONSULTANT DIABETES TEAM', 16.2626871247),\n",
       " ('Y03472', 'CONSULTANT DIABETES TEAM', 16.2626871247),\n",
       " ('Y03472', 'CONSULTANT DIABETES TEAM', 16.2626871247),\n",
       " ('Y03472', 'CONSULTANT DIABETES TEAM', 16.2626871247),\n",
       " ('Y03472', 'CONSULTANT DIABETES TEAM', 16.2626871247),\n",
       " ('Y03472', 'CONSULTANT DIABETES TEAM', 16.2626871247),\n",
       " ('Y03472', 'CONSULTANT DIABETES TEAM', 16.2626871247),\n",
       " ('Y03472', 'CONSULTANT DIABETES TEAM', 16.2626871247),\n",
       " ('Y03472', 'CONSULTANT DIABETES TEAM', 16.2626871247),\n",
       " ('Y03472', 'CONSULTANT DIABETES TEAM', 16.2626871247),\n",
       " ('Y03472', 'CONSULTANT DIABETES TEAM', 16.2626871247),\n",
       " ('Y03472', 'CONSULTANT DIABETES TEAM', 16.2626871247),\n",
       " ('Y03472', 'CONSULTANT DIABETES TEAM', 16.2626871247),\n",
       " ('Y03472', 'CONSULTANT DIABETES TEAM', 16.2626871247),\n",
       " ('Y03472', 'CONSULTANT DIABETES TEAM', 16.2626871247),\n",
       " ('Y03472', 'CONSULTANT DIABETES TEAM', 16.2626871247),\n",
       " ('Y03472', 'CONSULTANT DIABETES TEAM', 16.2626871247),\n",
       " ('Y03472', 'CONSULTANT DIABETES TEAM', 16.2626871247),\n",
       " ('Y03472', 'CONSULTANT DIABETES TEAM', 16.2626871247),\n",
       " ('Y03472', 'CONSULTANT DIABETES TEAM', 16.2626871247),\n",
       " ('Y03472', 'CONSULTANT DIABETES TEAM', 16.2626871247),\n",
       " ('Y03472', 'CONSULTANT DIABETES TEAM', 16.2626871247),\n",
       " ('Y03472', 'CONSULTANT DIABETES TEAM', 16.2626871247),\n",
       " ('Y03472', 'CONSULTANT DIABETES TEAM', 16.2626871247),\n",
       " ('Y03472', 'CONSULTANT DIABETES TEAM', 16.2626871247),\n",
       " ('Y03472', 'CONSULTANT DIABETES TEAM', 16.2626871247),\n",
       " ('Y03472', 'CONSULTANT DIABETES TEAM', 16.2626871247),\n",
       " ('Y03472', 'CONSULTANT DIABETES TEAM', 16.2626871247),\n",
       " ('Y03472', 'CONSULTANT DIABETES TEAM', 16.2626871247),\n",
       " ('Y03472', 'CONSULTANT DIABETES TEAM', 16.2626871247),\n",
       " ('Y03472', 'CONSULTANT DIABETES TEAM', 16.2626871247),\n",
       " ('Y03472', 'CONSULTANT DIABETES TEAM', 16.2626871247),\n",
       " ('Y03472', 'CONSULTANT DIABETES TEAM', 16.2626871247),\n",
       " ('Y03472', 'CONSULTANT DIABETES TEAM', 16.2626871247),\n",
       " ('Y03472', 'CONSULTANT DIABETES TEAM', 16.2626871247),\n",
       " ('Y03472', 'CONSULTANT DIABETES TEAM', 16.2626871247),\n",
       " ('Y03472', 'CONSULTANT DIABETES TEAM', 16.2626871247),\n",
       " ('Y03472', 'CONSULTANT DIABETES TEAM', 16.2626871247),\n",
       " ('Y03472', 'CONSULTANT DIABETES TEAM', 16.2626871247),\n",
       " ('Y03472', 'CONSULTANT DIABETES TEAM', 16.2626871247),\n",
       " ('Y03472', 'CONSULTANT DIABETES TEAM', 16.2626871247),\n",
       " ('Y03472', 'CONSULTANT DIABETES TEAM', 16.2626871247),\n",
       " ('Y03472', 'CONSULTANT DIABETES TEAM', 16.2626871247),\n",
       " ('Y03472', 'CONSULTANT DIABETES TEAM', 16.2626871247),\n",
       " ('Y03472', 'CONSULTANT DIABETES TEAM', 16.2626871247),\n",
       " ('Y03472', 'CONSULTANT DIABETES TEAM', 16.2626871247),\n",
       " ('Y03472', 'CONSULTANT DIABETES TEAM', 16.2626871247),\n",
       " ('Y03472', 'CONSULTANT DIABETES TEAM', 16.2626871247),\n",
       " ('Y03472', 'CONSULTANT DIABETES TEAM', 16.2626871247),\n",
       " ('Y03472', 'CONSULTANT DIABETES TEAM', 16.2626871247),\n",
       " ('Y03472', 'CONSULTANT DIABETES TEAM', 16.2626871247),\n",
       " ('Y03472', 'CONSULTANT DIABETES TEAM', 16.2626871247),\n",
       " ('Y03472', 'CONSULTANT DIABETES TEAM', 16.2626871247),\n",
       " ('Y03472', 'CONSULTANT DIABETES TEAM', 16.2626871247)]"
      ]
     },
     "execution_count": 73,
     "metadata": {},
     "output_type": "execute_result"
    }
   ],
   "source": [
    "rare_scripts"
   ]
  },
  {
   "cell_type": "code",
   "execution_count": 156,
   "metadata": {},
   "outputs": [
    {
     "name": "stdout",
     "output_type": "stream",
     "text": [
      "==================\n",
      "Your score:  1.0\n",
      "==================\n"
     ]
    }
   ],
   "source": [
    "grader.score.dw__rare_scripts(rare_scripts)"
   ]
  },
  {
   "cell_type": "markdown",
   "metadata": {},
   "source": [
    "*Copyright &copy; 2019 The Data Incubator.  All rights reserved.*"
   ]
  }
 ],
 "metadata": {
  "kernelspec": {
   "display_name": "Python 3",
   "language": "python",
   "name": "python3"
  },
  "language_info": {
   "codemirror_mode": {
    "name": "ipython",
    "version": 3
   },
   "file_extension": ".py",
   "mimetype": "text/x-python",
   "name": "python",
   "nbconvert_exporter": "python",
   "pygments_lexer": "ipython3",
   "version": "3.7.1"
  },
  "nbclean": true
 },
 "nbformat": 4,
 "nbformat_minor": 1
}
